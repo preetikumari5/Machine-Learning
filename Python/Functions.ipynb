{
  "nbformat": 4,
  "nbformat_minor": 0,
  "metadata": {
    "colab": {
      "provenance": [],
      "authorship_tag": "ABX9TyPM7KrdMp949JTgXaA+yesg",
      "include_colab_link": true
    },
    "kernelspec": {
      "name": "python3",
      "display_name": "Python 3"
    },
    "language_info": {
      "name": "python"
    }
  },
  "cells": [
    {
      "cell_type": "markdown",
      "metadata": {
        "id": "view-in-github",
        "colab_type": "text"
      },
      "source": [
        "<a href=\"https://colab.research.google.com/github/preetikumari5/Machine-Learning/blob/main/Functions.ipynb\" target=\"_parent\"><img src=\"https://colab.research.google.com/assets/colab-badge.svg\" alt=\"Open In Colab\"/></a>"
      ]
    },
    {
      "cell_type": "markdown",
      "source": [
        "Factorial of a number"
      ],
      "metadata": {
        "id": "FGXrHwE5Yn7z"
      }
    },
    {
      "cell_type": "code",
      "execution_count": 2,
      "metadata": {
        "colab": {
          "base_uri": "https://localhost:8080/"
        },
        "id": "fIlD8v5eYk71",
        "outputId": "54b9b8d4-2eba-4199-b8b8-bf677a15b1d0"
      },
      "outputs": [
        {
          "output_type": "stream",
          "name": "stdout",
          "text": [
            "Enter a number: 5\n",
            "120\n"
          ]
        }
      ],
      "source": [
        "num = int(input('Enter a number: '))\n",
        "factorial = 1\n",
        "if num < 0:\n",
        "    print('Factorial does not exist for negative numbers')\n",
        "elif num == 0:\n",
        "    print('Factorial of 0 is 1')\n",
        "else:\n",
        "    for i in range(1, num+1):\n",
        "        factorial = factorial * i\n",
        "print(factorial)"
      ]
    },
    {
      "cell_type": "markdown",
      "source": [
        "Factorial Function"
      ],
      "metadata": {
        "id": "Haj3c-F0Z3Mz"
      }
    },
    {
      "cell_type": "code",
      "source": [
        "def fact_value(num):\n",
        "  factorial = 1\n",
        "  if num < 0:\n",
        "    print('Factorial does not exist for negative numbers')\n",
        "  elif num == 0:\n",
        "    print('Factorial of 0 is 1')\n",
        "    return factorial\n",
        "  else:\n",
        "    for i in range(1, num+1):\n",
        "      factorial = factorial * i\n",
        "    return factorial"
      ],
      "metadata": {
        "id": "RFSnCKtuZ455"
      },
      "execution_count": 4,
      "outputs": []
    },
    {
      "cell_type": "code",
      "source": [
        "print(fact_value(5))"
      ],
      "metadata": {
        "colab": {
          "base_uri": "https://localhost:8080/"
        },
        "id": "erg6wg05aNhF",
        "outputId": "335de4d5-2a21-4c62-a4fa-a8a04a32fd88"
      },
      "execution_count": 6,
      "outputs": [
        {
          "output_type": "stream",
          "name": "stdout",
          "text": [
            "120\n"
          ]
        }
      ]
    },
    {
      "cell_type": "code",
      "source": [
        "print(fact_value(10))"
      ],
      "metadata": {
        "colab": {
          "base_uri": "https://localhost:8080/"
        },
        "id": "uYzdr9E8aXwm",
        "outputId": "02880c30-4922-497e-8c69-4c93395738de"
      },
      "execution_count": 7,
      "outputs": [
        {
          "output_type": "stream",
          "name": "stdout",
          "text": [
            "3628800\n"
          ]
        }
      ]
    }
  ]
}
