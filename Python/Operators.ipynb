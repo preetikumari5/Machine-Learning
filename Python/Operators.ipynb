{
  "nbformat": 4,
  "nbformat_minor": 0,
  "metadata": {
    "colab": {
      "provenance": [],
      "authorship_tag": "ABX9TyOk3fS1uf5BtLGwHt2IcHUY",
      "include_colab_link": true
    },
    "kernelspec": {
      "name": "python3",
      "display_name": "Python 3"
    },
    "language_info": {
      "name": "python"
    }
  },
  "cells": [
    {
      "cell_type": "markdown",
      "metadata": {
        "id": "view-in-github",
        "colab_type": "text"
      },
      "source": [
        "<a href=\"https://colab.research.google.com/github/preetikumari5/Machine-Learning/blob/main/Operators.ipynb\" target=\"_parent\"><img src=\"https://colab.research.google.com/assets/colab-badge.svg\" alt=\"Open In Colab\"/></a>"
      ]
    },
    {
      "cell_type": "markdown",
      "source": [
        "#1. Arithmetic Operators\n"
      ],
      "metadata": {
        "id": "xBZyPlvxPREu"
      }
    },
    {
      "cell_type": "code",
      "source": [
        "num1 = 3\n",
        "num2 = 5\n",
        "sum = num1+num2\n",
        "print(\"sum = \",sum)\n",
        "diff = num1-num2\n",
        "print(\"difference = \",diff)\n",
        "mul = num1*num2\n",
        "print(\"product = \",mul)\n",
        "div = num1/num2\n",
        "print(\"quotient = \",div)\n",
        "exp = num1**num2\n",
        "print(\"exponent = \",exp)\n",
        "mod = num1%num2\n",
        "print(\"remainder = \",mod)\n"
      ],
      "metadata": {
        "colab": {
          "base_uri": "https://localhost:8080/"
        },
        "id": "mFN0mR6ZPUA6",
        "outputId": "e75ef78d-6454-4d4e-ecf6-98b751d8589b"
      },
      "execution_count": 2,
      "outputs": [
        {
          "output_type": "stream",
          "name": "stdout",
          "text": [
            "sum =  8\n",
            "difference =  -2\n",
            "product =  15\n",
            "quotient =  0.6\n",
            "exponent =  243\n",
            "remainder =  3\n"
          ]
        }
      ]
    },
    {
      "cell_type": "markdown",
      "source": [
        "#2. Assignment Operators"
      ],
      "metadata": {
        "id": "Vpla4CVuQULc"
      }
    },
    {
      "cell_type": "code",
      "source": [
        "a = 5\n",
        "print(a)\n",
        "a += 5\n",
        "print(a)\n",
        "a -= 2\n",
        "print(a)\n",
        "a *= 3\n",
        "print(a)\n",
        "a /= 2\n",
        "print(a)\n",
        "a %= 3\n",
        "print(a)"
      ],
      "metadata": {
        "colab": {
          "base_uri": "https://localhost:8080/"
        },
        "id": "xS94ebrLQGtI",
        "outputId": "cdb396ea-90e4-4a96-95e0-67b9aef0f321"
      },
      "execution_count": 3,
      "outputs": [
        {
          "output_type": "stream",
          "name": "stdout",
          "text": [
            "5\n",
            "10\n",
            "8\n",
            "24\n",
            "12.0\n",
            "0.0\n"
          ]
        }
      ]
    },
    {
      "cell_type": "markdown",
      "source": [
        "#3. Comparison Operator"
      ],
      "metadata": {
        "id": "PLSCIjBVRGY1"
      }
    },
    {
      "cell_type": "code",
      "source": [
        " a = 5\n",
        " b =10\n",
        "\n",
        " print(a==b)\n",
        " print(a!=b)\n",
        " print(a>b)\n",
        " print(a<b)\n",
        " print(a>=b)\n",
        " print(a<=b)"
      ],
      "metadata": {
        "colab": {
          "base_uri": "https://localhost:8080/"
        },
        "id": "V0EwzeOmRsY4",
        "outputId": "377510db-405d-4973-b6de-485b37f19ce4"
      },
      "execution_count": 5,
      "outputs": [
        {
          "output_type": "stream",
          "name": "stdout",
          "text": [
            "False\n",
            "True\n",
            "False\n",
            "True\n",
            "False\n",
            "True\n"
          ]
        }
      ]
    },
    {
      "cell_type": "markdown",
      "source": [
        "#4. Logical Operators"
      ],
      "metadata": {
        "id": "3brdCInIRyhH"
      }
    },
    {
      "cell_type": "code",
      "source": [
        "a = 5\n",
        "b = 10\n",
        "c = 8\n",
        "\n",
        "print(a>b and c>b)\n",
        "print(a>b or c>b)\n",
        "print(not(a>b and c>b))"
      ],
      "metadata": {
        "colab": {
          "base_uri": "https://localhost:8080/"
        },
        "id": "u66bsgvdSIV5",
        "outputId": "a218a929-b4ce-4407-a5b7-e7174f1d6bb6"
      },
      "execution_count": 7,
      "outputs": [
        {
          "output_type": "stream",
          "name": "stdout",
          "text": [
            "False\n",
            "False\n",
            "True\n"
          ]
        }
      ]
    },
    {
      "cell_type": "markdown",
      "source": [
        "#5. identity Operator"
      ],
      "metadata": {
        "id": "vOBK6yaFSUUl"
      }
    },
    {
      "cell_type": "code",
      "source": [
        "x = 5\n",
        "y = 5\n",
        "z = 6\n",
        "\n",
        "print(x is y)\n",
        "print(x is z)\n",
        "print(x is not y)\n",
        "print(x is not z)"
      ],
      "metadata": {
        "colab": {
          "base_uri": "https://localhost:8080/"
        },
        "id": "JW2eRS-cSZyN",
        "outputId": "3d505e34-55aa-49f4-a47f-3703aff8b5a1"
      },
      "execution_count": 8,
      "outputs": [
        {
          "output_type": "stream",
          "name": "stdout",
          "text": [
            "True\n",
            "False\n",
            "False\n",
            "True\n"
          ]
        }
      ]
    },
    {
      "cell_type": "markdown",
      "source": [
        "#6. Memebership Operator"
      ],
      "metadata": {
        "id": "Ft9IRMPrSwJ9"
      }
    },
    {
      "cell_type": "code",
      "source": [
        "a = 5\n",
        "b = 10\n",
        "c=[1,2,3,4,5,6,7,8,9,10]\n",
        "print(a in c)\n",
        "print(b not in c)\n",
        "print(b in c)"
      ],
      "metadata": {
        "colab": {
          "base_uri": "https://localhost:8080/"
        },
        "id": "FUANs8gqSzxw",
        "outputId": "c01346bf-8348-498f-f91a-e71f097b7b7f"
      },
      "execution_count": 9,
      "outputs": [
        {
          "output_type": "stream",
          "name": "stdout",
          "text": [
            "True\n",
            "False\n",
            "True\n"
          ]
        }
      ]
    }
  ]
}
