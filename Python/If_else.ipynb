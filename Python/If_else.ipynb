{
  "nbformat": 4,
  "nbformat_minor": 0,
  "metadata": {
    "colab": {
      "provenance": [],
      "authorship_tag": "ABX9TyNRJHiibDnU8ctbq+O+jyZE",
      "include_colab_link": true
    },
    "kernelspec": {
      "name": "python3",
      "display_name": "Python 3"
    },
    "language_info": {
      "name": "python"
    }
  },
  "cells": [
    {
      "cell_type": "markdown",
      "metadata": {
        "id": "view-in-github",
        "colab_type": "text"
      },
      "source": [
        "<a href=\"https://colab.research.google.com/github/preetikumari5/Machine-Learning/blob/main/If_else.ipynb\" target=\"_parent\"><img src=\"https://colab.research.google.com/assets/colab-badge.svg\" alt=\"Open In Colab\"/></a>"
      ]
    },
    {
      "cell_type": "markdown",
      "source": [
        "simple if else"
      ],
      "metadata": {
        "id": "Og_sJChsT569"
      }
    },
    {
      "cell_type": "code",
      "execution_count": 1,
      "metadata": {
        "colab": {
          "base_uri": "https://localhost:8080/"
        },
        "id": "x-NhRiWvTukq",
        "outputId": "8f87a690-e857-44c3-bf00-a10b1bcdaf5c"
      },
      "outputs": [
        {
          "output_type": "stream",
          "name": "stdout",
          "text": [
            "b is greater\n"
          ]
        }
      ],
      "source": [
        "a = 30\n",
        "b= 50\n",
        "if(a>b):\n",
        "    print(\"a is greater\")\n",
        "else:\n",
        "    print(\"b is greater\")"
      ]
    },
    {
      "cell_type": "code",
      "source": [
        "a = int(input(\"enter the value of a:\"))\n",
        "b = int(input(\"enter the value of b:\"))\n",
        "if(a>b):\n",
        "    print(\"a is greater\")\n",
        "else:\n",
        "    print(\"b is greater\")"
      ],
      "metadata": {
        "colab": {
          "base_uri": "https://localhost:8080/"
        },
        "id": "U7BP7xJAUHkT",
        "outputId": "9e76f615-7962-4b25-83fd-663fbb2c98d4"
      },
      "execution_count": 3,
      "outputs": [
        {
          "output_type": "stream",
          "name": "stdout",
          "text": [
            "enter the value of a:6\n",
            "enter the value of b:10\n",
            "b is greater\n"
          ]
        }
      ]
    },
    {
      "cell_type": "markdown",
      "source": [
        "if elif statements"
      ],
      "metadata": {
        "id": "kQRayEebU7Ky"
      }
    },
    {
      "cell_type": "code",
      "source": [
        "a = 15\n",
        "b = 25\n",
        "c = 35\n",
        "if(a>b) & (a>c):\n",
        "    print(\"a is greatest\")\n",
        "elif(b>a) & (b>c):\n",
        "    print(\"b is greatest\")\n",
        "else:\n",
        "    print(\"c is greatest\")"
      ],
      "metadata": {
        "colab": {
          "base_uri": "https://localhost:8080/"
        },
        "id": "so8yD95iUSJu",
        "outputId": "52d40bc7-dee5-43db-a553-9ca0d32b1b9b"
      },
      "execution_count": 4,
      "outputs": [
        {
          "output_type": "stream",
          "name": "stdout",
          "text": [
            "c is greatest\n"
          ]
        }
      ]
    },
    {
      "cell_type": "markdown",
      "source": [
        "nested if statement"
      ],
      "metadata": {
        "id": "OTNf9E5OU-eg"
      }
    },
    {
      "cell_type": "code",
      "source": [
        "a = 20\n",
        "b = 40\n",
        "c = 60\n",
        "if(a>b):\n",
        "    if(a>c):\n",
        "        print(\"a is greatest\")\n",
        "    else:\n",
        "        print(\"c is greatest\")\n",
        "else:\n",
        "    if(b>c):\n",
        "        print(\"b is greatest\")\n",
        "    else:\n",
        "        print(\"c is greatest\")"
      ],
      "metadata": {
        "colab": {
          "base_uri": "https://localhost:8080/"
        },
        "id": "kois7n1oVAt6",
        "outputId": "a3c2cb6a-ba9b-44bf-8e75-f3dd9c0dd1db"
      },
      "execution_count": 5,
      "outputs": [
        {
          "output_type": "stream",
          "name": "stdout",
          "text": [
            "c is greatest\n"
          ]
        }
      ]
    }
  ]
}
