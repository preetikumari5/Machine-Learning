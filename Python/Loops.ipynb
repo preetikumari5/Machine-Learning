{
  "nbformat": 4,
  "nbformat_minor": 0,
  "metadata": {
    "colab": {
      "provenance": [],
      "authorship_tag": "ABX9TyOR+GFO0pfdzA1yfltQiUtQ",
      "include_colab_link": true
    },
    "kernelspec": {
      "name": "python3",
      "display_name": "Python 3"
    },
    "language_info": {
      "name": "python"
    }
  },
  "cells": [
    {
      "cell_type": "markdown",
      "metadata": {
        "id": "view-in-github",
        "colab_type": "text"
      },
      "source": [
        "<a href=\"https://colab.research.google.com/github/preetikumari5/Machine-Learning/blob/main/Loops.ipynb\" target=\"_parent\"><img src=\"https://colab.research.google.com/assets/colab-badge.svg\" alt=\"Open In Colab\"/></a>"
      ]
    },
    {
      "cell_type": "markdown",
      "source": [
        "#For loop\n",
        "\n"
      ],
      "metadata": {
        "id": "ikPk8FSjWAvT"
      }
    },
    {
      "cell_type": "code",
      "execution_count": 3,
      "metadata": {
        "colab": {
          "base_uri": "https://localhost:8080/"
        },
        "id": "vLYbeWjuV9aQ",
        "outputId": "61e09b6a-f754-4d40-ffdd-957a97b0ce33"
      },
      "outputs": [
        {
          "name": "stdout",
          "output_type": "stream",
          "text": [
            "Enter the price of the laptop: 20000\n",
            "Enter the price of the laptop: 30000\n",
            "Enter the price of the laptop: 40000\n",
            "Enter the price of the laptop: 50000\n",
            "Enter the price of the laptop: 60000\n"
          ]
        }
      ],
      "source": [
        "laptop1 = int(input('Enter the price of the laptop: '))\n",
        "laptop2 = int(input('Enter the price of the laptop: '))\n",
        "laptop3 = int(input('Enter the price of the laptop: '))\n",
        "laptop4 = int(input('Enter the price of the laptop: '))5\n",
        "laptop5 = int(input('Enter the price of the laptop: '))"
      ]
    },
    {
      "cell_type": "code",
      "source": [
        "for i in range(5):\n",
        "  laptop_price = int(input('Enter the price of the laptop: '))"
      ],
      "metadata": {
        "colab": {
          "base_uri": "https://localhost:8080/"
        },
        "id": "aP6DktdnWP9r",
        "outputId": "f0dc52eb-afbc-4a40-f198-2c44b4cdd965"
      },
      "execution_count": 4,
      "outputs": [
        {
          "name": "stdout",
          "output_type": "stream",
          "text": [
            "Enter the price of the laptop: 20000\n",
            "Enter the price of the laptop: 30000\n",
            "Enter the price of the laptop: 400000\n",
            "Enter the price of the laptop: 50000\n",
            "Enter the price of the laptop: 60000\n"
          ]
        }
      ]
    },
    {
      "cell_type": "code",
      "source": [
        "nums = [50,100,150,200]\n",
        "for i in nums:\n",
        "  print(i)"
      ],
      "metadata": {
        "colab": {
          "base_uri": "https://localhost:8080/"
        },
        "id": "nz_LT41fXCeS",
        "outputId": "b0b00d81-599b-48e0-bd88-056c22ccbfb1"
      },
      "execution_count": 5,
      "outputs": [
        {
          "output_type": "stream",
          "name": "stdout",
          "text": [
            "50\n",
            "100\n",
            "150\n",
            "200\n"
          ]
        }
      ]
    },
    {
      "cell_type": "markdown",
      "source": [
        "#While Loop"
      ],
      "metadata": {
        "id": "joLeBD4bXmNh"
      }
    },
    {
      "cell_type": "code",
      "source": [
        "i = 0\n",
        "while i<10:\n",
        "  print(i)\n",
        "  i = i+1"
      ],
      "metadata": {
        "colab": {
          "base_uri": "https://localhost:8080/"
        },
        "id": "d7Y-_0gsXc3P",
        "outputId": "9ee1ba41-3b2e-4ecd-a4b1-fd89c7d53229"
      },
      "execution_count": 7,
      "outputs": [
        {
          "output_type": "stream",
          "name": "stdout",
          "text": [
            "0\n",
            "1\n",
            "2\n",
            "3\n",
            "4\n",
            "5\n",
            "6\n",
            "7\n",
            "8\n",
            "9\n"
          ]
        }
      ]
    },
    {
      "cell_type": "code",
      "source": [
        "i = 5\n",
        "while i<3:\n",
        "  print(i)\n",
        "  i = i+1"
      ],
      "metadata": {
        "id": "X0Axp3wdX41A"
      },
      "execution_count": 8,
      "outputs": []
    }
  ]
}
