{
  "nbformat": 4,
  "nbformat_minor": 0,
  "metadata": {
    "colab": {
      "provenance": [],
      "authorship_tag": "ABX9TyO/ZkT3vvegrxVbef6bHuGN",
      "include_colab_link": true
    },
    "kernelspec": {
      "name": "python3",
      "display_name": "Python 3"
    },
    "language_info": {
      "name": "python"
    }
  },
  "cells": [
    {
      "cell_type": "markdown",
      "metadata": {
        "id": "view-in-github",
        "colab_type": "text"
      },
      "source": [
        "<a href=\"https://colab.research.google.com/github/preetikumari5/Machine-Learning/blob/main/KNN_model.ipynb\" target=\"_parent\"><img src=\"https://colab.research.google.com/assets/colab-badge.svg\" alt=\"Open In Colab\"/></a>"
      ]
    },
    {
      "cell_type": "markdown",
      "source": [
        "**Euclidean distance**\n",
        "\n",
        "![image.png](data:image/png;base64,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)"
      ],
      "metadata": {
        "id": "-VgblQ2IRnDa"
      }
    },
    {
      "cell_type": "markdown",
      "source": [
        "**Manhattan Distance**\n",
        "\n",
        "![image.png](data:image/png;base64,iVBORw0KGgoAAAANSUhEUgAAARIAAAAvCAYAAAAvpEXkAAAAAXNSR0IArs4c6QAAAARnQU1BAACxjwv8YQUAAAAJcEhZcwAADsMAAA7DAcdvqGQAABHeSURBVHhe7dzpbxznfcDx7zPn3vcul6coiyIlxZbtxKplx03aJE7rNEfrNE0aNEBQoP9H/4m+KZAXfdEXBVoURYEmjZs6SXPYcaz4kCzLkilRvLnc+5y7L3ZFkUtSWmp5yMh8gHmzz8zszDwzv+ecEZcvX/bw+Xy+IUj9P/h8Pt9B+YHE5/MNzQ8kPp9vaH4g8fl8Q/MDic/nG5ofSHw+39D8QOLz+YbmBxKfzzc0P5D4fL6h+YHE5/MNzQ8kOwg8IeMJ/7IMwkPCE4p/vXwnF0gcScPQk3QCGTqBNK6k9q9y7Aw9ycrY5ylkn8ORA/3Jvj7VxFluz/wljchkf9KxciUVQ09i6gk/qA3IEzKdQApTjx/KNRt+D4/AQ9AO5liafJnrF/6OG3PfpxPM9K927CwtQnnk01TT53Hkkw9sj7tmeIzCqS/QDub6k45VMzzKx7PfZf6JV3FkvT/ZtwdTi/Phub/l9vQ3sLRof/KBnUggEXiEW8skyh8iZAUJF8Vq9a92/DwP4VgIx0H470Q/lPAchNVBeG5/0sA8IWMrIVxJ608amCcUbC2CrYQB0Z/s24MnJCw1iq2E8A4hDAy/h0ckvO6T6iEINVeRXKt/Fd/vgVYoz8rUlymnLvQnDc7zwHURPHpA+30kPGfrORzWMQcSgScECNFr16ZwhEyotfyJCSSeEPuUer1z2zPtcdG99nsf473f90o7Op1AmkLuEvXodH/SIbqXN/26v38S8m3/Y9x2Dnue4/E4pkAisNQwlcQcxfTTlBPnaIbHaIeyCNtE75SHqh4fB0/ItINZyqknqcZnsJXQtjSJevQU5fRTj0Vfz15cSaEZHqOYfppa7DSekLfSbDlALf4E5dQFTC22zw17VDyE6wCHUzL2s9UwlcRZSsknaQczOzoWLTVMOfUkxcwzVFLnDqWv4LC5kko9OkUp/Qy12OkdeePIOvXYaYrpZymmnqGtZ4457+47hkAiqEdPcWvmr5k/8yqLk1/m7tSfsnDqz6jFZlDtFppZHTCQSHji4MuwF9cTMtX4EyxMfZWF6a9z+8w3qSbO4kkKINjMPMut2e+yeOab1KKn+zc/ca6kUUo9xd2pV1g4/efMn/kW9cgUAI4SYGPkeT6e+xuWpr9CKzhyRI/08TO0BEtjX2Th1Ne5c/avWJp6BVNL3F9BQCM6xcLsd1g+9Qqt4Mj2zU+cI+ts5C5xd+or3Jn5Jh/PfLsXTLqE59EOZFiZ/hMWZr9NPT6zI1AepyP/11r8NB+f/TbN6CRjS6/z5NV/YObWvyB7NkYoS8AoolqNgUqkcnKOtfxnD7RsjFymEZkY6gLbSohy8lMkqjcYX/wxrqJTTj+JJQepxZ/gzvTXUI0qUruMbpT6Nz9x7VCWeuwUuY03GVn5OVY4QzH9NJ6QqMbOsJF/HsWoobU2Ue0mYoC8eNy5kkIt/gSurDC5+F+EGktUo2dohse3amOq2SC1+R6ObaK0i+hGuX83J6oRmaAVyjOx9GOS61cwI3k2089sHb/kmoRaK8idGpJRJVK/g/Cc/t0ci0d/ugZg6CmWx1/G0uJMz/87+fVfo1pNgu0Cseo8wjHQjSKSa/ZvupsQVBNnWR95kfXc5cGWkcts5J6nEZ4cKpDITpvx5dfJbfyGcHOFQLtIR+vOgbk7+QqZzXc5f/0HzN74J6K12/2bn7hAq8DE4v+QKl0nVruN3K7QjIzTDI+zlv8smcLvOPfBP3J6/t8Itjf6N/9EklyHRPkGU3d/SLw6T6i+iKuoGHpiq7/EEzLN8DiyYxOt3n7sAkmkscTU3R8Rq90mWfkQYbVphkex1fvNakcO4qhBYrV5VKu+Y/vjJE9MTPx9/4+HwRMym+lnKOUvkdh8j7GVn201Xxw5QCV5jnYwT6ZwhWhjcaBSMFG5QX7tl+TXfzXYsvYrRtbfINJcHKjpZGpxqqnzKHabROUGci/ACc9FdgyE5yJ5Ns3wBM3gKKaWQLFbTC/+J7LdQXE6A53HflxJpR3KY2kRLC068OJKCrJr7fvfkucguyYCF9m1KCfPYeoJDD2JataZWP5fVLu1dY6DqkdPUUtfIFl4l3BrtT95B0cO0AlksPSdx94KjVJPzKB1SgSM0h7npiJ79gOPy9CTVFIXkFyLzOY7Wx33smshud1tjUCKRvIsitUkXr2F5Nm4vaYDwiO//ms0s9a/6wEJLDWGEUwfOO+E6yB5dv8OoZdvUi9fXVmlHD+PowZJl95DtZq4kkI1OUszmGdk/Q3CrbV974F+thJiI3cJ1WqSKl9DcTr9qxzIkQUSWw2zkb9MW08xtvpzws21rTRDT1LMfgZPVsgUrhDoFHdse1L2CyQ7STTDeeqJGYTnMLX4Q/TOg0qy/XrbdzMCKe6c/guqsRmq8dnBlsQ5XFkn2F5HHmDkS3ItarEnaCTOoFgNppZ+hG5U+lfbdtz7H/9BAkkzPM7S5MtUkuepxs9uHX89cgpTjWKrIZrhib5zm8NWw91zc4z+XW7ZL5DcI/Cw9Bi12AwekCpdRXYtOqEcG7nniddukSp/sEezYP9z384TMsX0RVbH/+iAeTdLwCihm5WHBgDhuVSSc5iRUVKb76MbZUwtzmbmMyhWm+zmOyj29rlYD86/ww4kj17ffwhDT2IEc6hWg1BzdasPxBMSphajE0ihGTUUq9m/6b48ScGV1AMv20cohud1SzkhiLSWCXY2+1fo6b630w5me1PId2dmP8VqkS38lmzhygGWt4nWbyM7ewW93Twhd9cVCuHmMsHW7qZMt2aUo5I4Szl5jnJyjnZwZJ8h1MHoZoVM8R2yhbd3HH+sNo+MQ6i9vue5xaq3HhhEBqUZFRSrjqnFt+6HUuI8wnNIFd9H2nH9RG+Ua5RmeGzb7/vxCDeXyW4cNO+uEDBKA83lUO0moXYBT1JpBXN4QqIVGsXUYiQrH6Ja92tTphajFjtNJTFHOXmeenQK+4hf+TiyGkkzPEEl/RSq1SC78fZW6e4oQYrZZ6nGZ4nWb5MsXx/4RinkLlHIXdoqrR66JOeox2YAD90oPzTqP7RGIgStUJ5i+ik6wSyqWSdR/nBXCegJCTOQpJKcY330D2mG8iRLHzz0/yXXItRcIdRaPdCiG5UHVv3vEzSiUxTTFzHVGJpZI1W62ndcgkpijrXRl/CEjOKaVBKz1BKz6EYFzbzfDq9HT1EdsEYiOwah1tquY3dljWrqArHqLcZWfrYrXTfKSLtqCjs9rEZCr0SvxU7TDuTIbr6DK2ssTXyJdPkqqW1540oKnUCGUvpJ1sf/GFsOEK/e7N/dDgIPzaoTah087xS73b+7fbWDWWrJOYKtdUKtVTazn0Z2DDKbv0Pt1UY8BAvTX6MVHkdxWhiBNMX0RRASgU5x61p+YmokW2/RbrvBPSFTi52mnDiH8Bz0TnngIAIgOSay0z7A0kF2OgjXHmhU6GEMLcFm+mmE56K3CrT1TG9aNjtqHKYWpxKfxVTjdPQUpho9lP9/ZL3JTO1glvWRFwi1VlGNMu1gDkvtmzshoB3M4UoK6eK7JEvXSJWu0QzlqSRmcSVl5/pDujfRapjO8EEoTqfbBBWCZniMtZEXUOw26c13djRp2sEc5cR5HDlIMziCta1j86RF6wvg2hh6kkZkkk4gQ6LyIZpZvb+SJFGPThOrzZMqXSVV7hYUleR5LDWyfXeH6shyT3gOeE6vUy+BJxQqyTkKuefQzAqK1eh1bnkYgfRAzY9U6Rpjy68ztvLTwZbl1xld/RnRxp0BS+y9dGshnUCazcwzGME0uY23CDeXMAMJjEAChMDQk1uT1BS7SbJ8nezGW+jt4kNrIkfJkTXagQzN8Ciro58F4ZErvEXAKGEGErSDWVxJwdQS2EoQPI/M5hWm7/wHwfYmkmuhGyVk18SVtUFaaI8nz0U3qwjPYTPzLKX0RUbXfoFubHsIAd0okym+S7r4DsoJjoLsJdguIFsNmqFRNjPPEmqtEq/c3HFvC9dl9uY/kyq9h2K3Uc06mlHFlZSBnrFHdWSBJNApoBkVTC3BndPf4ObMd1iY/CqRxiLBziauHMRSIxRyl1iceBlD3zZRaB+Sa6LY7QMtst1BcvfuFR+EK8ncmvkON2e/Ryl9kWTxGrHabYKdAkLRKaWeohnKc3v6GzTD4wDIjolmVrvVReEN1D9yJISgGR5n/sy3uDn3PVqhMXLrbxFsbRBtLODpEcrJ85STF1ia+ALt3oQszaz1OpC9bls8mMdFIdxcGepaniSBR6BTQBYe1eQsieoNEpUbu2qKit1GMyu98zyhfNuH5FnonTJmMIOtBkkX39vd/MYj1Fzd6jOz1BhGIE2ovdabr3U0jjCQlMhs/BbdKNFKnKGanCNXeIPRlf8j2FpDCJfVyS9QTD1FtvA2+vbq2WOkHRrB0JNYoTSp4vukytcQnkO8cotAbZFC/nk+Ovd9Yo15YrWP+zc/UR7djm0jmANJIb/2KyKNuwjPJVV8H62+QmH8cyyPf5FIc4lwc7l/F9hKmI2R54nV50mWrndfkDt0R7HP3TSzjmSbhBorjC/+ZIha6skQro1uVFBck+z6lT3zaztHDlBOnsfDI114t29U53AdWWerwCPUWidWmydRvEp+9ZekS1cRnkugU+xOsileJb/+BuHW6mORqXt1tkquS6R5l+zab0iVP9gqATSrTrS+QLzyEdmN35Iuvre7CSMkiumLeEIms/m7Yy/fRK9vIFK7TXbtTWL121s1Cs2qE6vPEy9/RG79N8SrN3d1atpKiKWpLwMuE8s/QbV3jrAdZPh3P5YepxMcIdxcJlq/0588kEE6W11Jo5i+SCs0yuTia0SaS/2r7ODIOoXsc+hmhVT5g/7kEyBohcdYy79IsnSV0bVf7DFcfZ8rqZRTF6jE58ivv0m0sbDj/vzEdLbS6ycJN5dJlq8Tbt2PnrJjEK3dJlG50esoOp4S6VF0+zs+JNpY2DUDN9heJ1n+gEhjccfvjw8PzaiQqNwg3NrdLAk110iWrhFqr+0K5LYSYmXsc5hKlMnF13pzTQ4/FMaqHzN7/QfkV37Rn3QIuh25rqRSTp6jlLlIuvjOQ0dhHh/354G0g1nuTr2CZtYYX3l917243b1XH0rJJ0mX3iVe/WigIeZhHGkg+cQ6xOel+4Gko83Ew+bIGpuZZ2kHc0wuvdab/BSjGR7D7fskphjyYt2bNSx5u2sRw3AllUpilkZkinLqAhsjf9Cb6/H2Ax/CfrtqmcfElTQa0UlqsWnqsWmWJ7+ErYSYWvwR2p4TCO9rhUYpZD9DovYRqdI1HFmnGR7b8cb6YfMDyTaSZ6NadWS7NfTD7wkJSwlhKwFsJYijhI58iPOwNMJTbIxcItRcx9CTlFKfYn3kBTYzz+z4lKHsdFCN0p5NiWMlACHwtgW1TiDF3amvsDDzKqtjn0c1G+TW3tw5VLoPT0hYagRH0rCUEI6sH3veWWqY9ZHLLDzxKgunv46hJ5lYeu2hzT9XqKyOvYSpx5GdDpXEWQq551jLv7hrQKP78W5xKAXn8V6dx5xmVMgv/ZTsxlvIQ7QZbSVIJTHHxshlXFkFJNbyL+x4c/Nx5QmZZmQcENRj06yOvsR6/kWq8bO7vqgVr97i1M1/JVK/u2Mfx03qdUJqxv1msq2EELh4nkeifIOx5dcJtdcfWsOwlRDFzLNsZj+N4nSwlRDr+Reoxme7w9/HxBMSQgg8SSLYWmfi7n+TqHzUv9ounWC6O/NVUljPPc9a/iWK6adxlGDfMLFDwCx1P+Hh7t/XMihx+fLlB1/Z3zP3poEP06b0hIypRXHkQK8kE4jeC1gBo3REIx+HRWDo3Tkl946dXhNEsZtoZm3bDdn9Mlf3Wp3cOTmyjqklELjonSLCc3GUAIaWRHgOqtVAsdsDHWN3Tk1826sVXvelR7uDatV39SUdFVdSt45DsZuoVmOg/+6+HJmi++2ee1UND9kxu7OEe7VHVyh0gtnePKHyAztuB+EHEp/PNzS/aePz+YbmBxKfzzc0P5D4fL6h+YHE5/MNzQ8kPp9vaH4g8fl8Q/MDic/nG5ofSHw+39D8QOLz+YbmBxKfzzc0P5D4fL6h/T+bhO4hVYzJhgAAAABJRU5ErkJggg==)"
      ],
      "metadata": {
        "id": "QidTiA2dRvtI"
      }
    },
    {
      "cell_type": "code",
      "execution_count": 1,
      "metadata": {
        "id": "Zhp8pLXcQ7kB"
      },
      "outputs": [],
      "source": [
        "import numpy as np\n",
        "import statistics"
      ]
    },
    {
      "cell_type": "markdown",
      "source": [
        "K-nearest Neighbours Classifier"
      ],
      "metadata": {
        "id": "4jDQ87pqR6WB"
      }
    },
    {
      "cell_type": "code",
      "source": [
        "class KNN_Classifier():\n",
        "\n",
        "  # initiating the parameters\n",
        "  def __init__(self, distance_metric):\n",
        "\n",
        "    self.distance_metric = distance_metric\n",
        "\n",
        "  # getting the distance metric\n",
        "  def get_distance_metric(self,training_data_point, test_data_point):\n",
        "\n",
        "    if (self.distance_metric == 'euclidean'):\n",
        "\n",
        "      dist = 0\n",
        "      for i in range(len(training_data_point) - 1):\n",
        "        dist = dist + (training_data_point[i] - test_data_point[i])**2\n",
        "\n",
        "      euclidean_dist = np.sqrt(dist)\n",
        "\n",
        "      return euclidean_dist\n",
        "\n",
        "    elif (self.distance_metric == 'manhattan'):\n",
        "\n",
        "      dist = 0\n",
        "\n",
        "      for i in range(len(training_data_point) - 1):\n",
        "        dist = dist + abs(training_data_point[i] - test_data_point[i])\n",
        "\n",
        "      manhattan_dist = dist\n",
        "\n",
        "      return manhattan_dist\n",
        "\n",
        "  # getting the nearest neighbors\n",
        "  def nearest_neighbors(self,X_train, test_data, k):\n",
        "\n",
        "    distance_list = []\n",
        "\n",
        "    for training_data in X_train:\n",
        "\n",
        "      distance = self.get_distance_metric(training_data, test_data)\n",
        "      distance_list.append((training_data, distance))\n",
        "\n",
        "    distance_list.sort(key=lambda x: x[1])\n",
        "\n",
        "    neighbors_list = []\n",
        "\n",
        "    for j in range(k):\n",
        "      neighbors_list.append(distance_list[j][0])\n",
        "\n",
        "    return neighbors_list\n",
        "\n",
        "\n",
        "  # predict the class of the new data point:\n",
        "  def predict(self,X_train, test_data, k):\n",
        "    neighbors = self.nearest_neighbors(X_train, test_data, k)\n",
        "\n",
        "    for data in neighbors:\n",
        "      label = []\n",
        "      label.append(data[-1])\n",
        "\n",
        "    predicted_class = statistics.mode(label)\n",
        "\n",
        "    return predicted_class\n"
      ],
      "metadata": {
        "id": "Yqkqpx03R52u"
      },
      "execution_count": 19,
      "outputs": []
    },
    {
      "cell_type": "markdown",
      "source": [
        "Diabetes Prediction"
      ],
      "metadata": {
        "id": "U6m3XwCVT144"
      }
    },
    {
      "cell_type": "code",
      "source": [
        "import numpy as np\n",
        "import pandas as pd\n",
        "from sklearn.preprocessing import StandardScaler\n",
        "from sklearn.model_selection import train_test_split\n",
        "from sklearn.metrics import accuracy_score"
      ],
      "metadata": {
        "id": "TdbOQ6oXTvgo"
      },
      "execution_count": 4,
      "outputs": []
    },
    {
      "cell_type": "code",
      "source": [
        "diabetes_dataset = pd.read_csv(\"/content/diabetes.csv\")"
      ],
      "metadata": {
        "id": "tkOCR7_EUIIU"
      },
      "execution_count": 5,
      "outputs": []
    },
    {
      "cell_type": "code",
      "source": [
        "diabetes_dataset.head()"
      ],
      "metadata": {
        "colab": {
          "base_uri": "https://localhost:8080/",
          "height": 206
        },
        "id": "mMUjmKNIUQ3B",
        "outputId": "c3a648b0-f35c-49ea-d589-868aca78ccf7"
      },
      "execution_count": 6,
      "outputs": [
        {
          "output_type": "execute_result",
          "data": {
            "text/plain": [
              "   Pregnancies  Glucose  BloodPressure  SkinThickness  Insulin   BMI  \\\n",
              "0            6      148             72             35        0  33.6   \n",
              "1            1       85             66             29        0  26.6   \n",
              "2            8      183             64              0        0  23.3   \n",
              "3            1       89             66             23       94  28.1   \n",
              "4            0      137             40             35      168  43.1   \n",
              "\n",
              "   DiabetesPedigreeFunction  Age  Outcome  \n",
              "0                     0.627   50        1  \n",
              "1                     0.351   31        0  \n",
              "2                     0.672   32        1  \n",
              "3                     0.167   21        0  \n",
              "4                     2.288   33        1  "
            ],
            "text/html": [
              "\n",
              "  <div id=\"df-41ef3aae-ea7f-407b-b043-9f267b0e0a20\" class=\"colab-df-container\">\n",
              "    <div>\n",
              "<style scoped>\n",
              "    .dataframe tbody tr th:only-of-type {\n",
              "        vertical-align: middle;\n",
              "    }\n",
              "\n",
              "    .dataframe tbody tr th {\n",
              "        vertical-align: top;\n",
              "    }\n",
              "\n",
              "    .dataframe thead th {\n",
              "        text-align: right;\n",
              "    }\n",
              "</style>\n",
              "<table border=\"1\" class=\"dataframe\">\n",
              "  <thead>\n",
              "    <tr style=\"text-align: right;\">\n",
              "      <th></th>\n",
              "      <th>Pregnancies</th>\n",
              "      <th>Glucose</th>\n",
              "      <th>BloodPressure</th>\n",
              "      <th>SkinThickness</th>\n",
              "      <th>Insulin</th>\n",
              "      <th>BMI</th>\n",
              "      <th>DiabetesPedigreeFunction</th>\n",
              "      <th>Age</th>\n",
              "      <th>Outcome</th>\n",
              "    </tr>\n",
              "  </thead>\n",
              "  <tbody>\n",
              "    <tr>\n",
              "      <th>0</th>\n",
              "      <td>6</td>\n",
              "      <td>148</td>\n",
              "      <td>72</td>\n",
              "      <td>35</td>\n",
              "      <td>0</td>\n",
              "      <td>33.6</td>\n",
              "      <td>0.627</td>\n",
              "      <td>50</td>\n",
              "      <td>1</td>\n",
              "    </tr>\n",
              "    <tr>\n",
              "      <th>1</th>\n",
              "      <td>1</td>\n",
              "      <td>85</td>\n",
              "      <td>66</td>\n",
              "      <td>29</td>\n",
              "      <td>0</td>\n",
              "      <td>26.6</td>\n",
              "      <td>0.351</td>\n",
              "      <td>31</td>\n",
              "      <td>0</td>\n",
              "    </tr>\n",
              "    <tr>\n",
              "      <th>2</th>\n",
              "      <td>8</td>\n",
              "      <td>183</td>\n",
              "      <td>64</td>\n",
              "      <td>0</td>\n",
              "      <td>0</td>\n",
              "      <td>23.3</td>\n",
              "      <td>0.672</td>\n",
              "      <td>32</td>\n",
              "      <td>1</td>\n",
              "    </tr>\n",
              "    <tr>\n",
              "      <th>3</th>\n",
              "      <td>1</td>\n",
              "      <td>89</td>\n",
              "      <td>66</td>\n",
              "      <td>23</td>\n",
              "      <td>94</td>\n",
              "      <td>28.1</td>\n",
              "      <td>0.167</td>\n",
              "      <td>21</td>\n",
              "      <td>0</td>\n",
              "    </tr>\n",
              "    <tr>\n",
              "      <th>4</th>\n",
              "      <td>0</td>\n",
              "      <td>137</td>\n",
              "      <td>40</td>\n",
              "      <td>35</td>\n",
              "      <td>168</td>\n",
              "      <td>43.1</td>\n",
              "      <td>2.288</td>\n",
              "      <td>33</td>\n",
              "      <td>1</td>\n",
              "    </tr>\n",
              "  </tbody>\n",
              "</table>\n",
              "</div>\n",
              "    <div class=\"colab-df-buttons\">\n",
              "\n",
              "  <div class=\"colab-df-container\">\n",
              "    <button class=\"colab-df-convert\" onclick=\"convertToInteractive('df-41ef3aae-ea7f-407b-b043-9f267b0e0a20')\"\n",
              "            title=\"Convert this dataframe to an interactive table.\"\n",
              "            style=\"display:none;\">\n",
              "\n",
              "  <svg xmlns=\"http://www.w3.org/2000/svg\" height=\"24px\" viewBox=\"0 -960 960 960\">\n",
              "    <path d=\"M120-120v-720h720v720H120Zm60-500h600v-160H180v160Zm220 220h160v-160H400v160Zm0 220h160v-160H400v160ZM180-400h160v-160H180v160Zm440 0h160v-160H620v160ZM180-180h160v-160H180v160Zm440 0h160v-160H620v160Z\"/>\n",
              "  </svg>\n",
              "    </button>\n",
              "\n",
              "  <style>\n",
              "    .colab-df-container {\n",
              "      display:flex;\n",
              "      gap: 12px;\n",
              "    }\n",
              "\n",
              "    .colab-df-convert {\n",
              "      background-color: #E8F0FE;\n",
              "      border: none;\n",
              "      border-radius: 50%;\n",
              "      cursor: pointer;\n",
              "      display: none;\n",
              "      fill: #1967D2;\n",
              "      height: 32px;\n",
              "      padding: 0 0 0 0;\n",
              "      width: 32px;\n",
              "    }\n",
              "\n",
              "    .colab-df-convert:hover {\n",
              "      background-color: #E2EBFA;\n",
              "      box-shadow: 0px 1px 2px rgba(60, 64, 67, 0.3), 0px 1px 3px 1px rgba(60, 64, 67, 0.15);\n",
              "      fill: #174EA6;\n",
              "    }\n",
              "\n",
              "    .colab-df-buttons div {\n",
              "      margin-bottom: 4px;\n",
              "    }\n",
              "\n",
              "    [theme=dark] .colab-df-convert {\n",
              "      background-color: #3B4455;\n",
              "      fill: #D2E3FC;\n",
              "    }\n",
              "\n",
              "    [theme=dark] .colab-df-convert:hover {\n",
              "      background-color: #434B5C;\n",
              "      box-shadow: 0px 1px 3px 1px rgba(0, 0, 0, 0.15);\n",
              "      filter: drop-shadow(0px 1px 2px rgba(0, 0, 0, 0.3));\n",
              "      fill: #FFFFFF;\n",
              "    }\n",
              "  </style>\n",
              "\n",
              "    <script>\n",
              "      const buttonEl =\n",
              "        document.querySelector('#df-41ef3aae-ea7f-407b-b043-9f267b0e0a20 button.colab-df-convert');\n",
              "      buttonEl.style.display =\n",
              "        google.colab.kernel.accessAllowed ? 'block' : 'none';\n",
              "\n",
              "      async function convertToInteractive(key) {\n",
              "        const element = document.querySelector('#df-41ef3aae-ea7f-407b-b043-9f267b0e0a20');\n",
              "        const dataTable =\n",
              "          await google.colab.kernel.invokeFunction('convertToInteractive',\n",
              "                                                    [key], {});\n",
              "        if (!dataTable) return;\n",
              "\n",
              "        const docLinkHtml = 'Like what you see? Visit the ' +\n",
              "          '<a target=\"_blank\" href=https://colab.research.google.com/notebooks/data_table.ipynb>data table notebook</a>'\n",
              "          + ' to learn more about interactive tables.';\n",
              "        element.innerHTML = '';\n",
              "        dataTable['output_type'] = 'display_data';\n",
              "        await google.colab.output.renderOutput(dataTable, element);\n",
              "        const docLink = document.createElement('div');\n",
              "        docLink.innerHTML = docLinkHtml;\n",
              "        element.appendChild(docLink);\n",
              "      }\n",
              "    </script>\n",
              "  </div>\n",
              "\n",
              "\n",
              "<div id=\"df-47bc0c94-c28d-43ec-b813-a155994b5716\">\n",
              "  <button class=\"colab-df-quickchart\" onclick=\"quickchart('df-47bc0c94-c28d-43ec-b813-a155994b5716')\"\n",
              "            title=\"Suggest charts\"\n",
              "            style=\"display:none;\">\n",
              "\n",
              "<svg xmlns=\"http://www.w3.org/2000/svg\" height=\"24px\"viewBox=\"0 0 24 24\"\n",
              "     width=\"24px\">\n",
              "    <g>\n",
              "        <path d=\"M19 3H5c-1.1 0-2 .9-2 2v14c0 1.1.9 2 2 2h14c1.1 0 2-.9 2-2V5c0-1.1-.9-2-2-2zM9 17H7v-7h2v7zm4 0h-2V7h2v10zm4 0h-2v-4h2v4z\"/>\n",
              "    </g>\n",
              "</svg>\n",
              "  </button>\n",
              "\n",
              "<style>\n",
              "  .colab-df-quickchart {\n",
              "      --bg-color: #E8F0FE;\n",
              "      --fill-color: #1967D2;\n",
              "      --hover-bg-color: #E2EBFA;\n",
              "      --hover-fill-color: #174EA6;\n",
              "      --disabled-fill-color: #AAA;\n",
              "      --disabled-bg-color: #DDD;\n",
              "  }\n",
              "\n",
              "  [theme=dark] .colab-df-quickchart {\n",
              "      --bg-color: #3B4455;\n",
              "      --fill-color: #D2E3FC;\n",
              "      --hover-bg-color: #434B5C;\n",
              "      --hover-fill-color: #FFFFFF;\n",
              "      --disabled-bg-color: #3B4455;\n",
              "      --disabled-fill-color: #666;\n",
              "  }\n",
              "\n",
              "  .colab-df-quickchart {\n",
              "    background-color: var(--bg-color);\n",
              "    border: none;\n",
              "    border-radius: 50%;\n",
              "    cursor: pointer;\n",
              "    display: none;\n",
              "    fill: var(--fill-color);\n",
              "    height: 32px;\n",
              "    padding: 0;\n",
              "    width: 32px;\n",
              "  }\n",
              "\n",
              "  .colab-df-quickchart:hover {\n",
              "    background-color: var(--hover-bg-color);\n",
              "    box-shadow: 0 1px 2px rgba(60, 64, 67, 0.3), 0 1px 3px 1px rgba(60, 64, 67, 0.15);\n",
              "    fill: var(--button-hover-fill-color);\n",
              "  }\n",
              "\n",
              "  .colab-df-quickchart-complete:disabled,\n",
              "  .colab-df-quickchart-complete:disabled:hover {\n",
              "    background-color: var(--disabled-bg-color);\n",
              "    fill: var(--disabled-fill-color);\n",
              "    box-shadow: none;\n",
              "  }\n",
              "\n",
              "  .colab-df-spinner {\n",
              "    border: 2px solid var(--fill-color);\n",
              "    border-color: transparent;\n",
              "    border-bottom-color: var(--fill-color);\n",
              "    animation:\n",
              "      spin 1s steps(1) infinite;\n",
              "  }\n",
              "\n",
              "  @keyframes spin {\n",
              "    0% {\n",
              "      border-color: transparent;\n",
              "      border-bottom-color: var(--fill-color);\n",
              "      border-left-color: var(--fill-color);\n",
              "    }\n",
              "    20% {\n",
              "      border-color: transparent;\n",
              "      border-left-color: var(--fill-color);\n",
              "      border-top-color: var(--fill-color);\n",
              "    }\n",
              "    30% {\n",
              "      border-color: transparent;\n",
              "      border-left-color: var(--fill-color);\n",
              "      border-top-color: var(--fill-color);\n",
              "      border-right-color: var(--fill-color);\n",
              "    }\n",
              "    40% {\n",
              "      border-color: transparent;\n",
              "      border-right-color: var(--fill-color);\n",
              "      border-top-color: var(--fill-color);\n",
              "    }\n",
              "    60% {\n",
              "      border-color: transparent;\n",
              "      border-right-color: var(--fill-color);\n",
              "    }\n",
              "    80% {\n",
              "      border-color: transparent;\n",
              "      border-right-color: var(--fill-color);\n",
              "      border-bottom-color: var(--fill-color);\n",
              "    }\n",
              "    90% {\n",
              "      border-color: transparent;\n",
              "      border-bottom-color: var(--fill-color);\n",
              "    }\n",
              "  }\n",
              "</style>\n",
              "\n",
              "  <script>\n",
              "    async function quickchart(key) {\n",
              "      const quickchartButtonEl =\n",
              "        document.querySelector('#' + key + ' button');\n",
              "      quickchartButtonEl.disabled = true;  // To prevent multiple clicks.\n",
              "      quickchartButtonEl.classList.add('colab-df-spinner');\n",
              "      try {\n",
              "        const charts = await google.colab.kernel.invokeFunction(\n",
              "            'suggestCharts', [key], {});\n",
              "      } catch (error) {\n",
              "        console.error('Error during call to suggestCharts:', error);\n",
              "      }\n",
              "      quickchartButtonEl.classList.remove('colab-df-spinner');\n",
              "      quickchartButtonEl.classList.add('colab-df-quickchart-complete');\n",
              "    }\n",
              "    (() => {\n",
              "      let quickchartButtonEl =\n",
              "        document.querySelector('#df-47bc0c94-c28d-43ec-b813-a155994b5716 button');\n",
              "      quickchartButtonEl.style.display =\n",
              "        google.colab.kernel.accessAllowed ? 'block' : 'none';\n",
              "    })();\n",
              "  </script>\n",
              "</div>\n",
              "\n",
              "    </div>\n",
              "  </div>\n"
            ],
            "application/vnd.google.colaboratory.intrinsic+json": {
              "type": "dataframe",
              "variable_name": "diabetes_dataset",
              "summary": "{\n  \"name\": \"diabetes_dataset\",\n  \"rows\": 768,\n  \"fields\": [\n    {\n      \"column\": \"Pregnancies\",\n      \"properties\": {\n        \"dtype\": \"number\",\n        \"std\": 3,\n        \"min\": 0,\n        \"max\": 17,\n        \"num_unique_values\": 17,\n        \"samples\": [\n          6,\n          1,\n          3\n        ],\n        \"semantic_type\": \"\",\n        \"description\": \"\"\n      }\n    },\n    {\n      \"column\": \"Glucose\",\n      \"properties\": {\n        \"dtype\": \"number\",\n        \"std\": 31,\n        \"min\": 0,\n        \"max\": 199,\n        \"num_unique_values\": 136,\n        \"samples\": [\n          151,\n          101,\n          112\n        ],\n        \"semantic_type\": \"\",\n        \"description\": \"\"\n      }\n    },\n    {\n      \"column\": \"BloodPressure\",\n      \"properties\": {\n        \"dtype\": \"number\",\n        \"std\": 19,\n        \"min\": 0,\n        \"max\": 122,\n        \"num_unique_values\": 47,\n        \"samples\": [\n          86,\n          46,\n          85\n        ],\n        \"semantic_type\": \"\",\n        \"description\": \"\"\n      }\n    },\n    {\n      \"column\": \"SkinThickness\",\n      \"properties\": {\n        \"dtype\": \"number\",\n        \"std\": 15,\n        \"min\": 0,\n        \"max\": 99,\n        \"num_unique_values\": 51,\n        \"samples\": [\n          7,\n          12,\n          48\n        ],\n        \"semantic_type\": \"\",\n        \"description\": \"\"\n      }\n    },\n    {\n      \"column\": \"Insulin\",\n      \"properties\": {\n        \"dtype\": \"number\",\n        \"std\": 115,\n        \"min\": 0,\n        \"max\": 846,\n        \"num_unique_values\": 186,\n        \"samples\": [\n          52,\n          41,\n          183\n        ],\n        \"semantic_type\": \"\",\n        \"description\": \"\"\n      }\n    },\n    {\n      \"column\": \"BMI\",\n      \"properties\": {\n        \"dtype\": \"number\",\n        \"std\": 7.8841603203754405,\n        \"min\": 0.0,\n        \"max\": 67.1,\n        \"num_unique_values\": 248,\n        \"samples\": [\n          19.9,\n          31.0,\n          38.1\n        ],\n        \"semantic_type\": \"\",\n        \"description\": \"\"\n      }\n    },\n    {\n      \"column\": \"DiabetesPedigreeFunction\",\n      \"properties\": {\n        \"dtype\": \"number\",\n        \"std\": 0.33132859501277484,\n        \"min\": 0.078,\n        \"max\": 2.42,\n        \"num_unique_values\": 517,\n        \"samples\": [\n          1.731,\n          0.426,\n          0.138\n        ],\n        \"semantic_type\": \"\",\n        \"description\": \"\"\n      }\n    },\n    {\n      \"column\": \"Age\",\n      \"properties\": {\n        \"dtype\": \"number\",\n        \"std\": 11,\n        \"min\": 21,\n        \"max\": 81,\n        \"num_unique_values\": 52,\n        \"samples\": [\n          60,\n          47,\n          72\n        ],\n        \"semantic_type\": \"\",\n        \"description\": \"\"\n      }\n    },\n    {\n      \"column\": \"Outcome\",\n      \"properties\": {\n        \"dtype\": \"number\",\n        \"std\": 0,\n        \"min\": 0,\n        \"max\": 1,\n        \"num_unique_values\": 2,\n        \"samples\": [\n          0,\n          1\n        ],\n        \"semantic_type\": \"\",\n        \"description\": \"\"\n      }\n    }\n  ]\n}"
            }
          },
          "metadata": {},
          "execution_count": 6
        }
      ]
    },
    {
      "cell_type": "code",
      "source": [
        "diabetes_dataset.shape"
      ],
      "metadata": {
        "colab": {
          "base_uri": "https://localhost:8080/"
        },
        "id": "4eMZQDjsUTjn",
        "outputId": "b296286a-16d9-4cd2-d43d-3a1c29e887a9"
      },
      "execution_count": 7,
      "outputs": [
        {
          "output_type": "execute_result",
          "data": {
            "text/plain": [
              "(768, 9)"
            ]
          },
          "metadata": {},
          "execution_count": 7
        }
      ]
    },
    {
      "cell_type": "code",
      "source": [
        "X = diabetes_dataset.drop(columns='Outcome',axis=1)\n",
        "Y = diabetes_dataset['Outcome']"
      ],
      "metadata": {
        "id": "s1xja-kLUWpk"
      },
      "execution_count": 8,
      "outputs": []
    },
    {
      "cell_type": "code",
      "source": [
        "X = X.to_numpy()\n",
        "Y = Y.to_numpy()"
      ],
      "metadata": {
        "id": "4p9M1RI5UZVY"
      },
      "execution_count": 9,
      "outputs": []
    },
    {
      "cell_type": "code",
      "source": [
        "print(X)\n",
        "print(Y)"
      ],
      "metadata": {
        "colab": {
          "base_uri": "https://localhost:8080/"
        },
        "id": "kLjzS1TUUfja",
        "outputId": "d9fa5f5e-53ff-4bd9-dc08-e379b5f271cc"
      },
      "execution_count": 10,
      "outputs": [
        {
          "output_type": "stream",
          "name": "stdout",
          "text": [
            "[[  6.    148.     72.    ...  33.6     0.627  50.   ]\n",
            " [  1.     85.     66.    ...  26.6     0.351  31.   ]\n",
            " [  8.    183.     64.    ...  23.3     0.672  32.   ]\n",
            " ...\n",
            " [  5.    121.     72.    ...  26.2     0.245  30.   ]\n",
            " [  1.    126.     60.    ...  30.1     0.349  47.   ]\n",
            " [  1.     93.     70.    ...  30.4     0.315  23.   ]]\n",
            "[1 0 1 0 1 0 1 0 1 1 0 1 0 1 1 1 1 1 0 1 0 0 1 1 1 1 1 0 0 0 0 1 0 0 0 0 0\n",
            " 1 1 1 0 0 0 1 0 1 0 0 1 0 0 0 0 1 0 0 1 0 0 0 0 1 0 0 1 0 1 0 0 0 1 0 1 0\n",
            " 0 0 0 0 1 0 0 0 0 0 1 0 0 0 1 0 0 0 0 1 0 0 0 0 0 1 1 0 0 0 0 0 0 0 0 1 1\n",
            " 1 0 0 1 1 1 0 0 0 1 0 0 0 1 1 0 0 1 1 1 1 1 0 0 0 0 0 0 0 0 0 0 1 0 0 0 0\n",
            " 0 0 0 0 1 0 1 1 0 0 0 1 0 0 0 0 1 1 0 0 0 0 1 1 0 0 0 1 0 1 0 1 0 0 0 0 0\n",
            " 1 1 1 1 1 0 0 1 1 0 1 0 1 1 1 0 0 0 0 0 0 1 1 0 1 0 0 0 1 1 1 1 0 1 1 1 1\n",
            " 0 0 0 0 0 1 0 0 1 1 0 0 0 1 1 1 1 0 0 0 1 1 0 1 0 0 0 0 0 0 0 0 1 1 0 0 0\n",
            " 1 0 1 0 0 1 0 1 0 0 1 1 0 0 0 0 0 1 0 0 0 1 0 0 1 1 0 0 1 0 0 0 1 1 1 0 0\n",
            " 1 0 1 0 1 1 0 1 0 0 1 0 1 1 0 0 1 0 1 0 0 1 0 1 0 1 1 1 0 0 1 0 1 0 0 0 1\n",
            " 0 0 0 0 1 1 1 0 0 0 0 0 0 0 0 0 1 0 0 0 0 0 1 1 1 0 1 1 0 0 1 0 0 1 0 0 1\n",
            " 1 0 0 0 0 1 0 0 1 0 0 0 0 0 0 0 1 1 1 0 0 1 0 0 1 0 0 1 0 1 1 0 1 0 1 0 1\n",
            " 0 1 1 0 0 0 0 1 1 0 1 0 1 0 0 0 0 1 1 0 1 0 1 0 0 0 0 0 1 0 0 0 0 1 0 0 1\n",
            " 1 1 0 0 1 0 0 1 0 0 0 1 0 0 1 0 0 0 0 0 0 0 0 0 1 0 0 0 0 0 0 0 1 0 0 0 1\n",
            " 0 0 0 1 1 0 0 0 0 0 0 0 1 0 0 0 0 1 0 0 0 1 0 0 0 1 0 0 0 1 0 0 0 0 1 1 0\n",
            " 0 0 0 0 0 1 0 0 0 0 0 0 0 0 0 0 0 1 0 0 0 1 1 1 1 0 0 1 1 0 0 0 0 0 0 0 0\n",
            " 0 0 0 0 0 1 1 0 0 0 0 0 0 0 1 0 0 0 0 0 0 0 1 0 1 1 0 0 0 1 0 1 0 1 0 1 0\n",
            " 1 0 0 1 0 0 1 0 0 0 0 1 1 0 1 0 0 0 0 1 1 0 1 0 0 0 1 1 0 0 0 0 0 0 0 0 0\n",
            " 0 1 0 0 0 0 1 0 0 1 0 0 0 1 0 0 0 1 1 1 0 0 0 0 0 0 1 0 0 0 1 0 1 1 1 1 0\n",
            " 1 1 0 0 0 0 0 0 0 1 1 0 1 0 0 1 0 1 0 0 0 0 0 1 0 1 0 1 0 1 1 0 0 0 0 1 1\n",
            " 0 0 0 1 0 1 1 0 0 1 0 0 1 1 0 0 1 0 0 1 0 0 0 0 0 0 0 1 1 1 0 0 0 0 0 0 1\n",
            " 1 0 0 1 0 0 1 0 1 1 1 0 0 1 1 1 0 1 0 1 0 1 0 0 0 0 1 0]\n"
          ]
        }
      ]
    },
    {
      "cell_type": "code",
      "source": [
        "X_train , X_test,Y_train,Y_test = train_test_split(X,Y,test_size=0.2,stratify=Y,random_state=2)"
      ],
      "metadata": {
        "id": "-zcUfRd_UiY5"
      },
      "execution_count": 11,
      "outputs": []
    },
    {
      "cell_type": "code",
      "source": [
        "print(X.shape,X_train.shape,X_test.shape)"
      ],
      "metadata": {
        "colab": {
          "base_uri": "https://localhost:8080/"
        },
        "id": "KZDblgJgUoOP",
        "outputId": "2e382a7f-fe42-4ced-fbbb-b20ae0ede068"
      },
      "execution_count": 12,
      "outputs": [
        {
          "output_type": "stream",
          "name": "stdout",
          "text": [
            "(768, 8) (614, 8) (154, 8)\n"
          ]
        }
      ]
    },
    {
      "cell_type": "code",
      "source": [
        "print(X_train)"
      ],
      "metadata": {
        "colab": {
          "base_uri": "https://localhost:8080/"
        },
        "id": "MPAUpr-4Ut4n",
        "outputId": "fe440039-5a82-4424-f61d-f2106db6e557"
      },
      "execution_count": 13,
      "outputs": [
        {
          "output_type": "stream",
          "name": "stdout",
          "text": [
            "[[0.00e+00 1.19e+02 0.00e+00 ... 3.24e+01 1.41e-01 2.40e+01]\n",
            " [6.00e+00 1.05e+02 7.00e+01 ... 3.08e+01 1.22e-01 3.70e+01]\n",
            " [1.00e+00 1.89e+02 6.00e+01 ... 3.01e+01 3.98e-01 5.90e+01]\n",
            " ...\n",
            " [1.10e+01 8.50e+01 7.40e+01 ... 3.01e+01 3.00e-01 3.50e+01]\n",
            " [4.00e+00 1.12e+02 7.80e+01 ... 3.94e+01 2.36e-01 3.80e+01]\n",
            " [0.00e+00 8.60e+01 6.80e+01 ... 3.58e+01 2.38e-01 2.50e+01]]\n"
          ]
        }
      ]
    },
    {
      "cell_type": "code",
      "source": [
        "X_train = np.insert(X_train,8,Y_train,axis=1)"
      ],
      "metadata": {
        "id": "xDgW-D9sUvnO"
      },
      "execution_count": 14,
      "outputs": []
    },
    {
      "cell_type": "code",
      "source": [
        "print(X_train)"
      ],
      "metadata": {
        "colab": {
          "base_uri": "https://localhost:8080/"
        },
        "id": "fWrTqThkUx6k",
        "outputId": "5e4761d6-e800-4b4b-da2c-e58c8a5fce5f"
      },
      "execution_count": 15,
      "outputs": [
        {
          "output_type": "stream",
          "name": "stdout",
          "text": [
            "[[0.00e+00 1.19e+02 0.00e+00 ... 1.41e-01 2.40e+01 1.00e+00]\n",
            " [6.00e+00 1.05e+02 7.00e+01 ... 1.22e-01 3.70e+01 0.00e+00]\n",
            " [1.00e+00 1.89e+02 6.00e+01 ... 3.98e-01 5.90e+01 1.00e+00]\n",
            " ...\n",
            " [1.10e+01 8.50e+01 7.40e+01 ... 3.00e-01 3.50e+01 0.00e+00]\n",
            " [4.00e+00 1.12e+02 7.80e+01 ... 2.36e-01 3.80e+01 0.00e+00]\n",
            " [0.00e+00 8.60e+01 6.80e+01 ... 2.38e-01 2.50e+01 0.00e+00]]\n"
          ]
        }
      ]
    },
    {
      "cell_type": "code",
      "source": [
        "X_train.shape"
      ],
      "metadata": {
        "colab": {
          "base_uri": "https://localhost:8080/"
        },
        "id": "WVhXM7TFUzxj",
        "outputId": "25954951-6331-4fa4-f5e0-4f1ca5a19111"
      },
      "execution_count": 16,
      "outputs": [
        {
          "output_type": "execute_result",
          "data": {
            "text/plain": [
              "(614, 9)"
            ]
          },
          "metadata": {},
          "execution_count": 16
        }
      ]
    },
    {
      "cell_type": "code",
      "source": [
        "print(X_train[:,8])"
      ],
      "metadata": {
        "colab": {
          "base_uri": "https://localhost:8080/"
        },
        "id": "zsPYZoReU2BW",
        "outputId": "f4f805f0-2db4-4ee1-80a4-30b98764b008"
      },
      "execution_count": 17,
      "outputs": [
        {
          "output_type": "stream",
          "name": "stdout",
          "text": [
            "[1. 0. 1. 1. 1. 1. 0. 1. 0. 0. 1. 1. 0. 0. 0. 0. 0. 0. 0. 1. 0. 0. 0. 0.\n",
            " 0. 0. 1. 1. 0. 1. 0. 0. 0. 0. 1. 1. 0. 0. 0. 0. 0. 1. 0. 0. 0. 0. 0. 0.\n",
            " 1. 0. 1. 0. 0. 0. 0. 0. 1. 0. 1. 0. 0. 0. 0. 0. 0. 0. 0. 1. 1. 1. 0. 0.\n",
            " 0. 1. 1. 0. 1. 0. 1. 0. 0. 1. 1. 0. 0. 0. 0. 1. 1. 0. 0. 0. 1. 0. 0. 1.\n",
            " 0. 0. 1. 1. 0. 1. 0. 0. 1. 0. 0. 0. 0. 0. 0. 0. 1. 0. 0. 0. 0. 0. 1. 1.\n",
            " 0. 0. 1. 0. 0. 1. 0. 1. 0. 1. 1. 1. 1. 0. 0. 0. 0. 1. 0. 0. 0. 1. 0. 0.\n",
            " 0. 1. 1. 0. 1. 1. 0. 1. 1. 1. 1. 0. 0. 0. 1. 0. 0. 1. 0. 1. 0. 0. 1. 0.\n",
            " 0. 0. 0. 1. 0. 1. 1. 0. 1. 1. 0. 0. 0. 1. 0. 0. 0. 0. 1. 0. 1. 0. 1. 0.\n",
            " 0. 1. 0. 1. 0. 0. 1. 0. 1. 0. 0. 1. 1. 0. 1. 0. 0. 0. 0. 0. 0. 0. 1. 0.\n",
            " 1. 0. 0. 0. 1. 0. 0. 1. 1. 0. 0. 1. 0. 0. 1. 0. 0. 0. 1. 1. 1. 0. 0. 0.\n",
            " 0. 0. 0. 1. 0. 0. 0. 0. 0. 0. 1. 1. 0. 1. 0. 1. 1. 1. 1. 0. 0. 1. 0. 0.\n",
            " 1. 1. 0. 0. 0. 0. 1. 0. 0. 0. 1. 1. 1. 1. 1. 0. 1. 1. 0. 0. 0. 0. 0. 0.\n",
            " 0. 0. 0. 0. 0. 0. 1. 1. 0. 0. 0. 0. 1. 1. 0. 0. 0. 0. 0. 0. 0. 0. 0. 0.\n",
            " 1. 0. 1. 0. 0. 0. 1. 1. 1. 0. 0. 0. 0. 1. 0. 0. 0. 0. 0. 0. 0. 0. 1. 0.\n",
            " 0. 0. 0. 0. 0. 1. 1. 0. 0. 0. 0. 1. 1. 0. 1. 0. 0. 0. 1. 0. 0. 0. 0. 1.\n",
            " 0. 1. 0. 1. 1. 0. 0. 0. 0. 0. 0. 1. 1. 1. 1. 0. 1. 1. 1. 0. 1. 0. 0. 0.\n",
            " 1. 0. 1. 0. 0. 0. 1. 0. 0. 1. 1. 0. 0. 0. 0. 0. 1. 0. 0. 0. 0. 1. 0. 1.\n",
            " 0. 0. 0. 0. 0. 0. 1. 0. 0. 0. 0. 1. 0. 0. 0. 0. 0. 1. 0. 0. 0. 1. 0. 0.\n",
            " 0. 0. 1. 0. 1. 0. 0. 1. 0. 0. 0. 0. 1. 1. 1. 0. 0. 0. 1. 0. 0. 0. 1. 1.\n",
            " 0. 0. 1. 1. 0. 0. 0. 1. 0. 1. 1. 0. 1. 0. 0. 1. 1. 0. 0. 0. 0. 0. 1. 0.\n",
            " 1. 0. 0. 0. 0. 0. 0. 1. 0. 0. 0. 1. 0. 0. 0. 0. 1. 0. 0. 1. 0. 0. 1. 1.\n",
            " 0. 1. 0. 0. 1. 1. 0. 1. 0. 0. 1. 1. 0. 0. 0. 1. 0. 1. 0. 1. 1. 0. 0. 0.\n",
            " 0. 0. 0. 1. 0. 0. 1. 0. 1. 1. 1. 1. 1. 1. 0. 1. 1. 0. 1. 0. 1. 1. 0. 1.\n",
            " 0. 1. 0. 0. 0. 0. 0. 0. 0. 1. 0. 0. 0. 0. 0. 1. 1. 0. 1. 1. 0. 0. 1. 0.\n",
            " 1. 1. 1. 0. 0. 0. 0. 0. 0. 0. 0. 1. 0. 1. 0. 0. 0. 0. 0. 0. 1. 0. 0. 0.\n",
            " 1. 1. 0. 1. 0. 0. 1. 0. 0. 1. 1. 0. 0. 0.]\n"
          ]
        }
      ]
    },
    {
      "cell_type": "markdown",
      "source": [
        "X_train --> training data with features and target\n",
        "\n",
        "X_test --> test data without target"
      ],
      "metadata": {
        "id": "6UrsMMyHU8Ao"
      }
    },
    {
      "cell_type": "markdown",
      "source": [
        "Model Training : KNN Classifier"
      ],
      "metadata": {
        "id": "ZNifTaQyU9xn"
      }
    },
    {
      "cell_type": "code",
      "source": [
        "classifier = KNN_Classifier(distance_metric='manhattan')"
      ],
      "metadata": {
        "id": "P43yLnPIU6At"
      },
      "execution_count": 21,
      "outputs": []
    },
    {
      "cell_type": "markdown",
      "source": [
        "NOTE: The KNN CLassifier can predict the label for only one data point at a time"
      ],
      "metadata": {
        "id": "Dtq_UhX6VWeA"
      }
    },
    {
      "cell_type": "code",
      "source": [
        "prediction = classifier.predict(X_train,X_test[2],k=5)"
      ],
      "metadata": {
        "id": "8xuuaj_aVEBT"
      },
      "execution_count": 22,
      "outputs": []
    },
    {
      "cell_type": "code",
      "source": [
        "print(X_test[2])"
      ],
      "metadata": {
        "colab": {
          "base_uri": "https://localhost:8080/"
        },
        "id": "msVq4lokVd-a",
        "outputId": "f9fbb55c-8364-42cb-cda8-9b1f2351e665"
      },
      "execution_count": 23,
      "outputs": [
        {
          "output_type": "stream",
          "name": "stdout",
          "text": [
            "[  5.    147.     78.      0.      0.     33.7     0.218  65.   ]\n"
          ]
        }
      ]
    },
    {
      "cell_type": "code",
      "source": [
        "print(Y_test[2])"
      ],
      "metadata": {
        "colab": {
          "base_uri": "https://localhost:8080/"
        },
        "id": "8JWYO2j1VmCA",
        "outputId": "0244e9f8-ccca-4ac8-cff0-29d14c9cbb7b"
      },
      "execution_count": 24,
      "outputs": [
        {
          "output_type": "stream",
          "name": "stdout",
          "text": [
            "0\n"
          ]
        }
      ]
    },
    {
      "cell_type": "code",
      "source": [
        "print(prediction)"
      ],
      "metadata": {
        "colab": {
          "base_uri": "https://localhost:8080/"
        },
        "id": "6c6aeOFmVplk",
        "outputId": "e833db74-e007-4b51-d3ed-f9b14a6e9a9f"
      },
      "execution_count": 25,
      "outputs": [
        {
          "output_type": "stream",
          "name": "stdout",
          "text": [
            "0.0\n"
          ]
        }
      ]
    },
    {
      "cell_type": "code",
      "source": [
        "X_test.shape"
      ],
      "metadata": {
        "colab": {
          "base_uri": "https://localhost:8080/"
        },
        "id": "NdgEzU5WVsCt",
        "outputId": "19067ba0-8442-4ca9-a83e-1456778a77ca"
      },
      "execution_count": 26,
      "outputs": [
        {
          "output_type": "execute_result",
          "data": {
            "text/plain": [
              "(154, 8)"
            ]
          },
          "metadata": {},
          "execution_count": 26
        }
      ]
    },
    {
      "cell_type": "code",
      "source": [
        "X_test_size = X_test.shape[0]\n",
        "print(X_test_size)"
      ],
      "metadata": {
        "colab": {
          "base_uri": "https://localhost:8080/"
        },
        "id": "exMqwtN-Vt_Q",
        "outputId": "3df56d3b-9ec3-4975-9641-5c5dc297d88f"
      },
      "execution_count": 28,
      "outputs": [
        {
          "output_type": "stream",
          "name": "stdout",
          "text": [
            "154\n"
          ]
        }
      ]
    },
    {
      "cell_type": "code",
      "source": [
        "y_pred = []\n",
        "\n",
        "for i in range(X_test_size):\n",
        "  prediction = classifier.predict(X_train, X_test[i], k=5)\n",
        "  y_pred.append(prediction)"
      ],
      "metadata": {
        "id": "_M4co0L3VwY3"
      },
      "execution_count": 29,
      "outputs": []
    },
    {
      "cell_type": "code",
      "source": [
        "print(y_pred)"
      ],
      "metadata": {
        "colab": {
          "base_uri": "https://localhost:8080/"
        },
        "id": "5pWFcUyZV4xH",
        "outputId": "d780d22a-3805-49a9-bdec-3fbc349af0ac"
      },
      "execution_count": 30,
      "outputs": [
        {
          "output_type": "stream",
          "name": "stdout",
          "text": [
            "[0.0, 0.0, 0.0, 1.0, 0.0, 0.0, 0.0, 1.0, 1.0, 0.0, 1.0, 0.0, 1.0, 0.0, 0.0, 1.0, 0.0, 0.0, 0.0, 0.0, 0.0, 1.0, 0.0, 0.0, 0.0, 0.0, 0.0, 0.0, 0.0, 0.0, 0.0, 0.0, 1.0, 1.0, 0.0, 1.0, 0.0, 0.0, 0.0, 0.0, 1.0, 0.0, 0.0, 1.0, 1.0, 1.0, 0.0, 0.0, 0.0, 1.0, 0.0, 0.0, 1.0, 0.0, 1.0, 0.0, 0.0, 0.0, 0.0, 0.0, 0.0, 0.0, 1.0, 0.0, 1.0, 1.0, 0.0, 1.0, 0.0, 0.0, 0.0, 0.0, 0.0, 0.0, 0.0, 0.0, 0.0, 0.0, 0.0, 0.0, 0.0, 0.0, 0.0, 0.0, 0.0, 0.0, 0.0, 0.0, 1.0, 0.0, 0.0, 0.0, 1.0, 0.0, 0.0, 1.0, 1.0, 0.0, 1.0, 1.0, 0.0, 0.0, 1.0, 1.0, 1.0, 0.0, 0.0, 0.0, 0.0, 0.0, 1.0, 0.0, 0.0, 1.0, 0.0, 1.0, 0.0, 1.0, 1.0, 1.0, 0.0, 0.0, 0.0, 0.0, 0.0, 0.0, 0.0, 0.0, 0.0, 0.0, 1.0, 1.0, 1.0, 0.0, 1.0, 0.0, 0.0, 1.0, 0.0, 1.0, 0.0, 0.0, 1.0, 0.0, 0.0, 1.0, 0.0, 0.0, 1.0, 0.0, 1.0, 0.0, 0.0, 0.0]\n"
          ]
        }
      ]
    },
    {
      "cell_type": "code",
      "source": [
        "y_true = Y_test"
      ],
      "metadata": {
        "id": "bGLf3T7UV6a3"
      },
      "execution_count": 31,
      "outputs": []
    },
    {
      "cell_type": "markdown",
      "source": [
        "Model Evaluation"
      ],
      "metadata": {
        "id": "doIFZ57eV-rf"
      }
    },
    {
      "cell_type": "code",
      "source": [
        "accuracy = accuracy_score(y_true,y_pred)"
      ],
      "metadata": {
        "id": "U9EmwgU_V-GT"
      },
      "execution_count": 33,
      "outputs": []
    },
    {
      "cell_type": "code",
      "source": [
        "print(accuracy*100)"
      ],
      "metadata": {
        "colab": {
          "base_uri": "https://localhost:8080/"
        },
        "id": "BtsxlXGsWEB0",
        "outputId": "9b181bdd-1715-469e-9c7f-d3b966e631c3"
      },
      "execution_count": 35,
      "outputs": [
        {
          "output_type": "stream",
          "name": "stdout",
          "text": [
            "74.02597402597402\n"
          ]
        }
      ]
    },
    {
      "cell_type": "code",
      "source": [],
      "metadata": {
        "id": "wxTqb4akWK2V"
      },
      "execution_count": null,
      "outputs": []
    }
  ]
}