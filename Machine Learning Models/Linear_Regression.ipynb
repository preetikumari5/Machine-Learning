{
  "nbformat": 4,
  "nbformat_minor": 0,
  "metadata": {
    "colab": {
      "provenance": [],
      "authorship_tag": "ABX9TyM8jvxoKxgoXaTSAzwdP/oV",
      "include_colab_link": true
    },
    "kernelspec": {
      "name": "python3",
      "display_name": "Python 3"
    },
    "language_info": {
      "name": "python"
    }
  },
  "cells": [
    {
      "cell_type": "markdown",
      "metadata": {
        "id": "view-in-github",
        "colab_type": "text"
      },
      "source": [
        "<a href=\"https://colab.research.google.com/github/preetikumari5/Machine-Learning/blob/main/Linear_Regression.ipynb\" target=\"_parent\"><img src=\"https://colab.research.google.com/assets/colab-badge.svg\" alt=\"Open In Colab\"/></a>"
      ]
    },
    {
      "cell_type": "markdown",
      "source": [
        "Linear Regression:\n",
        "\n",
        "Y = wX + b\n",
        "\n",
        "Y --> Dependent Variable\n",
        "\n",
        "X --> Independent Variable\n",
        "\n",
        "w --> weight\n",
        "\n",
        "b --> bias"
      ],
      "metadata": {
        "id": "UsXRT2vEV0qg"
      }
    },
    {
      "cell_type": "markdown",
      "source": [
        "Gradient Descent:\n",
        "\n",
        "Gradient Descent is an optimization algorithm used for minimizing the loss function in various machine learning algorithms. It is used for updating the parameters of the learning model.\n",
        "\n",
        "w = w - α*dw\n",
        "\n",
        "b = b - α*db"
      ],
      "metadata": {
        "id": "ggbTdwmdV4HA"
      }
    },
    {
      "cell_type": "markdown",
      "source": [
        "Learning Rate:\n",
        "\n",
        "Learning rate is a tuning parameter in an optimization algorithm that determines the step size at each iteration while moving toward a minimum of a loss function."
      ],
      "metadata": {
        "id": "Szxh61HEV6Y3"
      }
    },
    {
      "cell_type": "markdown",
      "source": [
        "![image.png](data:image/png;base64,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)"
      ],
      "metadata": {
        "id": "VDP-R2HBWB2w"
      }
    },
    {
      "cell_type": "markdown",
      "source": [
        "![image.png](data:image/png;base64,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)"
      ],
      "metadata": {
        "id": "0xUmTx-2WMUX"
      }
    },
    {
      "cell_type": "markdown",
      "source": [],
      "metadata": {
        "id": "vVlIPjx-WIRf"
      }
    },
    {
      "cell_type": "code",
      "execution_count": null,
      "metadata": {
        "id": "qNReIi7hVuW0"
      },
      "outputs": [],
      "source": [
        "#importing lib\n",
        "import numpy as np\n"
      ]
    },
    {
      "cell_type": "markdown",
      "source": [
        "Linear Regression"
      ],
      "metadata": {
        "id": "2zTFfL3oXDTu"
      }
    },
    {
      "cell_type": "code",
      "source": [
        "class Linear_Regression:\n",
        "\n",
        "#initiating the parameters (learning rate and no. of iterations)\n",
        "  def __init__(self, learning_rate, no_of_iterations):\n",
        "    self.learning_rate = learning_rate\n",
        "    self.no_of_iterations = no_of_iterations\n",
        "\n",
        "\n",
        "  def fit(self, X,Y):\n",
        "    #no. of training eg. anf no. of features\n",
        "    self.m , self.n = X.shape\n",
        "\n",
        "    #initiating weight and bias\n",
        "    self.w = np.zeros(self.n)\n",
        "    self.b = 0\n",
        "    self.X = X\n",
        "    self.Y = Y\n",
        "\n",
        "    #implementing gradient descent\n",
        "    for i in range(self.no_of_iterations):\n",
        "      self.update_weights()\n",
        "\n",
        "  def update_weights(self):\n",
        "    Y_prediction = self.predict(self.X)\n",
        "\n",
        "    #calculating gradients\n",
        "    dw = - (2 * (self.X.T).dot(self.Y - Y_prediction)) / self.m\n",
        "    db = - 2 * np.sum(self.Y - Y_prediction) / self.m\n",
        "\n",
        "    #updating the weights\n",
        "    self.w = self.w - self.learning_rate * dw\n",
        "    self.b = self.b - self.learning_rate * db\n",
        "\n",
        "  def predict(self, X):\n",
        "    return X.dot(self.w) + self.b"
      ],
      "metadata": {
        "id": "XMFmwEC4XCMj"
      },
      "execution_count": null,
      "outputs": []
    },
    {
      "cell_type": "markdown",
      "source": [
        "Using Linear Regression model for prediction"
      ],
      "metadata": {
        "id": "_u_4CCLQhrmG"
      }
    },
    {
      "cell_type": "code",
      "source": [
        "import pandas as pd\n",
        "from sklearn.model_selection import train_test_split\n",
        "import matplotlib.pyplot as plt"
      ],
      "metadata": {
        "id": "V1zkjbx9hrRm"
      },
      "execution_count": null,
      "outputs": []
    },
    {
      "cell_type": "markdown",
      "source": [
        "Date Pre-Processing"
      ],
      "metadata": {
        "id": "u3EWbviJlV62"
      }
    },
    {
      "cell_type": "code",
      "source": [
        "salary_data = pd.read_csv('/content/salary_data.csv')"
      ],
      "metadata": {
        "id": "DS2XY3qYlUyC"
      },
      "execution_count": null,
      "outputs": []
    },
    {
      "cell_type": "code",
      "source": [
        "salary_data.head()"
      ],
      "metadata": {
        "colab": {
          "base_uri": "https://localhost:8080/",
          "height": 206
        },
        "id": "dLb3gk4hlqf2",
        "outputId": "d70aad69-446a-48e3-e1ff-55975bf1fec7"
      },
      "execution_count": null,
      "outputs": [
        {
          "output_type": "execute_result",
          "data": {
            "text/plain": [
              "   YearsExperience  Salary\n",
              "0              1.1   39343\n",
              "1              1.3   46205\n",
              "2              1.5   37731\n",
              "3              2.0   43525\n",
              "4              2.2   39891"
            ],
            "text/html": [
              "\n",
              "  <div id=\"df-523da0b1-7a90-457a-bb45-f0a454eb58c0\" class=\"colab-df-container\">\n",
              "    <div>\n",
              "<style scoped>\n",
              "    .dataframe tbody tr th:only-of-type {\n",
              "        vertical-align: middle;\n",
              "    }\n",
              "\n",
              "    .dataframe tbody tr th {\n",
              "        vertical-align: top;\n",
              "    }\n",
              "\n",
              "    .dataframe thead th {\n",
              "        text-align: right;\n",
              "    }\n",
              "</style>\n",
              "<table border=\"1\" class=\"dataframe\">\n",
              "  <thead>\n",
              "    <tr style=\"text-align: right;\">\n",
              "      <th></th>\n",
              "      <th>YearsExperience</th>\n",
              "      <th>Salary</th>\n",
              "    </tr>\n",
              "  </thead>\n",
              "  <tbody>\n",
              "    <tr>\n",
              "      <th>0</th>\n",
              "      <td>1.1</td>\n",
              "      <td>39343</td>\n",
              "    </tr>\n",
              "    <tr>\n",
              "      <th>1</th>\n",
              "      <td>1.3</td>\n",
              "      <td>46205</td>\n",
              "    </tr>\n",
              "    <tr>\n",
              "      <th>2</th>\n",
              "      <td>1.5</td>\n",
              "      <td>37731</td>\n",
              "    </tr>\n",
              "    <tr>\n",
              "      <th>3</th>\n",
              "      <td>2.0</td>\n",
              "      <td>43525</td>\n",
              "    </tr>\n",
              "    <tr>\n",
              "      <th>4</th>\n",
              "      <td>2.2</td>\n",
              "      <td>39891</td>\n",
              "    </tr>\n",
              "  </tbody>\n",
              "</table>\n",
              "</div>\n",
              "    <div class=\"colab-df-buttons\">\n",
              "\n",
              "  <div class=\"colab-df-container\">\n",
              "    <button class=\"colab-df-convert\" onclick=\"convertToInteractive('df-523da0b1-7a90-457a-bb45-f0a454eb58c0')\"\n",
              "            title=\"Convert this dataframe to an interactive table.\"\n",
              "            style=\"display:none;\">\n",
              "\n",
              "  <svg xmlns=\"http://www.w3.org/2000/svg\" height=\"24px\" viewBox=\"0 -960 960 960\">\n",
              "    <path d=\"M120-120v-720h720v720H120Zm60-500h600v-160H180v160Zm220 220h160v-160H400v160Zm0 220h160v-160H400v160ZM180-400h160v-160H180v160Zm440 0h160v-160H620v160ZM180-180h160v-160H180v160Zm440 0h160v-160H620v160Z\"/>\n",
              "  </svg>\n",
              "    </button>\n",
              "\n",
              "  <style>\n",
              "    .colab-df-container {\n",
              "      display:flex;\n",
              "      gap: 12px;\n",
              "    }\n",
              "\n",
              "    .colab-df-convert {\n",
              "      background-color: #E8F0FE;\n",
              "      border: none;\n",
              "      border-radius: 50%;\n",
              "      cursor: pointer;\n",
              "      display: none;\n",
              "      fill: #1967D2;\n",
              "      height: 32px;\n",
              "      padding: 0 0 0 0;\n",
              "      width: 32px;\n",
              "    }\n",
              "\n",
              "    .colab-df-convert:hover {\n",
              "      background-color: #E2EBFA;\n",
              "      box-shadow: 0px 1px 2px rgba(60, 64, 67, 0.3), 0px 1px 3px 1px rgba(60, 64, 67, 0.15);\n",
              "      fill: #174EA6;\n",
              "    }\n",
              "\n",
              "    .colab-df-buttons div {\n",
              "      margin-bottom: 4px;\n",
              "    }\n",
              "\n",
              "    [theme=dark] .colab-df-convert {\n",
              "      background-color: #3B4455;\n",
              "      fill: #D2E3FC;\n",
              "    }\n",
              "\n",
              "    [theme=dark] .colab-df-convert:hover {\n",
              "      background-color: #434B5C;\n",
              "      box-shadow: 0px 1px 3px 1px rgba(0, 0, 0, 0.15);\n",
              "      filter: drop-shadow(0px 1px 2px rgba(0, 0, 0, 0.3));\n",
              "      fill: #FFFFFF;\n",
              "    }\n",
              "  </style>\n",
              "\n",
              "    <script>\n",
              "      const buttonEl =\n",
              "        document.querySelector('#df-523da0b1-7a90-457a-bb45-f0a454eb58c0 button.colab-df-convert');\n",
              "      buttonEl.style.display =\n",
              "        google.colab.kernel.accessAllowed ? 'block' : 'none';\n",
              "\n",
              "      async function convertToInteractive(key) {\n",
              "        const element = document.querySelector('#df-523da0b1-7a90-457a-bb45-f0a454eb58c0');\n",
              "        const dataTable =\n",
              "          await google.colab.kernel.invokeFunction('convertToInteractive',\n",
              "                                                    [key], {});\n",
              "        if (!dataTable) return;\n",
              "\n",
              "        const docLinkHtml = 'Like what you see? Visit the ' +\n",
              "          '<a target=\"_blank\" href=https://colab.research.google.com/notebooks/data_table.ipynb>data table notebook</a>'\n",
              "          + ' to learn more about interactive tables.';\n",
              "        element.innerHTML = '';\n",
              "        dataTable['output_type'] = 'display_data';\n",
              "        await google.colab.output.renderOutput(dataTable, element);\n",
              "        const docLink = document.createElement('div');\n",
              "        docLink.innerHTML = docLinkHtml;\n",
              "        element.appendChild(docLink);\n",
              "      }\n",
              "    </script>\n",
              "  </div>\n",
              "\n",
              "\n",
              "<div id=\"df-37dc25d0-a13b-482e-a955-6ab5b5a99561\">\n",
              "  <button class=\"colab-df-quickchart\" onclick=\"quickchart('df-37dc25d0-a13b-482e-a955-6ab5b5a99561')\"\n",
              "            title=\"Suggest charts\"\n",
              "            style=\"display:none;\">\n",
              "\n",
              "<svg xmlns=\"http://www.w3.org/2000/svg\" height=\"24px\"viewBox=\"0 0 24 24\"\n",
              "     width=\"24px\">\n",
              "    <g>\n",
              "        <path d=\"M19 3H5c-1.1 0-2 .9-2 2v14c0 1.1.9 2 2 2h14c1.1 0 2-.9 2-2V5c0-1.1-.9-2-2-2zM9 17H7v-7h2v7zm4 0h-2V7h2v10zm4 0h-2v-4h2v4z\"/>\n",
              "    </g>\n",
              "</svg>\n",
              "  </button>\n",
              "\n",
              "<style>\n",
              "  .colab-df-quickchart {\n",
              "      --bg-color: #E8F0FE;\n",
              "      --fill-color: #1967D2;\n",
              "      --hover-bg-color: #E2EBFA;\n",
              "      --hover-fill-color: #174EA6;\n",
              "      --disabled-fill-color: #AAA;\n",
              "      --disabled-bg-color: #DDD;\n",
              "  }\n",
              "\n",
              "  [theme=dark] .colab-df-quickchart {\n",
              "      --bg-color: #3B4455;\n",
              "      --fill-color: #D2E3FC;\n",
              "      --hover-bg-color: #434B5C;\n",
              "      --hover-fill-color: #FFFFFF;\n",
              "      --disabled-bg-color: #3B4455;\n",
              "      --disabled-fill-color: #666;\n",
              "  }\n",
              "\n",
              "  .colab-df-quickchart {\n",
              "    background-color: var(--bg-color);\n",
              "    border: none;\n",
              "    border-radius: 50%;\n",
              "    cursor: pointer;\n",
              "    display: none;\n",
              "    fill: var(--fill-color);\n",
              "    height: 32px;\n",
              "    padding: 0;\n",
              "    width: 32px;\n",
              "  }\n",
              "\n",
              "  .colab-df-quickchart:hover {\n",
              "    background-color: var(--hover-bg-color);\n",
              "    box-shadow: 0 1px 2px rgba(60, 64, 67, 0.3), 0 1px 3px 1px rgba(60, 64, 67, 0.15);\n",
              "    fill: var(--button-hover-fill-color);\n",
              "  }\n",
              "\n",
              "  .colab-df-quickchart-complete:disabled,\n",
              "  .colab-df-quickchart-complete:disabled:hover {\n",
              "    background-color: var(--disabled-bg-color);\n",
              "    fill: var(--disabled-fill-color);\n",
              "    box-shadow: none;\n",
              "  }\n",
              "\n",
              "  .colab-df-spinner {\n",
              "    border: 2px solid var(--fill-color);\n",
              "    border-color: transparent;\n",
              "    border-bottom-color: var(--fill-color);\n",
              "    animation:\n",
              "      spin 1s steps(1) infinite;\n",
              "  }\n",
              "\n",
              "  @keyframes spin {\n",
              "    0% {\n",
              "      border-color: transparent;\n",
              "      border-bottom-color: var(--fill-color);\n",
              "      border-left-color: var(--fill-color);\n",
              "    }\n",
              "    20% {\n",
              "      border-color: transparent;\n",
              "      border-left-color: var(--fill-color);\n",
              "      border-top-color: var(--fill-color);\n",
              "    }\n",
              "    30% {\n",
              "      border-color: transparent;\n",
              "      border-left-color: var(--fill-color);\n",
              "      border-top-color: var(--fill-color);\n",
              "      border-right-color: var(--fill-color);\n",
              "    }\n",
              "    40% {\n",
              "      border-color: transparent;\n",
              "      border-right-color: var(--fill-color);\n",
              "      border-top-color: var(--fill-color);\n",
              "    }\n",
              "    60% {\n",
              "      border-color: transparent;\n",
              "      border-right-color: var(--fill-color);\n",
              "    }\n",
              "    80% {\n",
              "      border-color: transparent;\n",
              "      border-right-color: var(--fill-color);\n",
              "      border-bottom-color: var(--fill-color);\n",
              "    }\n",
              "    90% {\n",
              "      border-color: transparent;\n",
              "      border-bottom-color: var(--fill-color);\n",
              "    }\n",
              "  }\n",
              "</style>\n",
              "\n",
              "  <script>\n",
              "    async function quickchart(key) {\n",
              "      const quickchartButtonEl =\n",
              "        document.querySelector('#' + key + ' button');\n",
              "      quickchartButtonEl.disabled = true;  // To prevent multiple clicks.\n",
              "      quickchartButtonEl.classList.add('colab-df-spinner');\n",
              "      try {\n",
              "        const charts = await google.colab.kernel.invokeFunction(\n",
              "            'suggestCharts', [key], {});\n",
              "      } catch (error) {\n",
              "        console.error('Error during call to suggestCharts:', error);\n",
              "      }\n",
              "      quickchartButtonEl.classList.remove('colab-df-spinner');\n",
              "      quickchartButtonEl.classList.add('colab-df-quickchart-complete');\n",
              "    }\n",
              "    (() => {\n",
              "      let quickchartButtonEl =\n",
              "        document.querySelector('#df-37dc25d0-a13b-482e-a955-6ab5b5a99561 button');\n",
              "      quickchartButtonEl.style.display =\n",
              "        google.colab.kernel.accessAllowed ? 'block' : 'none';\n",
              "    })();\n",
              "  </script>\n",
              "</div>\n",
              "\n",
              "    </div>\n",
              "  </div>\n"
            ],
            "application/vnd.google.colaboratory.intrinsic+json": {
              "type": "dataframe",
              "variable_name": "salary_data",
              "summary": "{\n  \"name\": \"salary_data\",\n  \"rows\": 30,\n  \"fields\": [\n    {\n      \"column\": \"YearsExperience\",\n      \"properties\": {\n        \"dtype\": \"number\",\n        \"std\": 2.8378881576627184,\n        \"min\": 1.1,\n        \"max\": 10.5,\n        \"num_unique_values\": 28,\n        \"samples\": [\n          3.9,\n          9.6,\n          3.7\n        ],\n        \"semantic_type\": \"\",\n        \"description\": \"\"\n      }\n    },\n    {\n      \"column\": \"Salary\",\n      \"properties\": {\n        \"dtype\": \"number\",\n        \"std\": 27414,\n        \"min\": 37731,\n        \"max\": 122391,\n        \"num_unique_values\": 30,\n        \"samples\": [\n          112635,\n          67938,\n          113812\n        ],\n        \"semantic_type\": \"\",\n        \"description\": \"\"\n      }\n    }\n  ]\n}"
            }
          },
          "metadata": {},
          "execution_count": 8
        }
      ]
    },
    {
      "cell_type": "code",
      "source": [
        "salary_data.tail()"
      ],
      "metadata": {
        "colab": {
          "base_uri": "https://localhost:8080/",
          "height": 206
        },
        "id": "4HuMGDyVluLT",
        "outputId": "1c6d704b-10b1-4337-ebf2-5c0826479264"
      },
      "execution_count": null,
      "outputs": [
        {
          "output_type": "execute_result",
          "data": {
            "text/plain": [
              "    YearsExperience  Salary\n",
              "25              9.0  105582\n",
              "26              9.5  116969\n",
              "27              9.6  112635\n",
              "28             10.3  122391\n",
              "29             10.5  121872"
            ],
            "text/html": [
              "\n",
              "  <div id=\"df-2a853363-42a2-4cae-9ed9-a3ff33dc4f7d\" class=\"colab-df-container\">\n",
              "    <div>\n",
              "<style scoped>\n",
              "    .dataframe tbody tr th:only-of-type {\n",
              "        vertical-align: middle;\n",
              "    }\n",
              "\n",
              "    .dataframe tbody tr th {\n",
              "        vertical-align: top;\n",
              "    }\n",
              "\n",
              "    .dataframe thead th {\n",
              "        text-align: right;\n",
              "    }\n",
              "</style>\n",
              "<table border=\"1\" class=\"dataframe\">\n",
              "  <thead>\n",
              "    <tr style=\"text-align: right;\">\n",
              "      <th></th>\n",
              "      <th>YearsExperience</th>\n",
              "      <th>Salary</th>\n",
              "    </tr>\n",
              "  </thead>\n",
              "  <tbody>\n",
              "    <tr>\n",
              "      <th>25</th>\n",
              "      <td>9.0</td>\n",
              "      <td>105582</td>\n",
              "    </tr>\n",
              "    <tr>\n",
              "      <th>26</th>\n",
              "      <td>9.5</td>\n",
              "      <td>116969</td>\n",
              "    </tr>\n",
              "    <tr>\n",
              "      <th>27</th>\n",
              "      <td>9.6</td>\n",
              "      <td>112635</td>\n",
              "    </tr>\n",
              "    <tr>\n",
              "      <th>28</th>\n",
              "      <td>10.3</td>\n",
              "      <td>122391</td>\n",
              "    </tr>\n",
              "    <tr>\n",
              "      <th>29</th>\n",
              "      <td>10.5</td>\n",
              "      <td>121872</td>\n",
              "    </tr>\n",
              "  </tbody>\n",
              "</table>\n",
              "</div>\n",
              "    <div class=\"colab-df-buttons\">\n",
              "\n",
              "  <div class=\"colab-df-container\">\n",
              "    <button class=\"colab-df-convert\" onclick=\"convertToInteractive('df-2a853363-42a2-4cae-9ed9-a3ff33dc4f7d')\"\n",
              "            title=\"Convert this dataframe to an interactive table.\"\n",
              "            style=\"display:none;\">\n",
              "\n",
              "  <svg xmlns=\"http://www.w3.org/2000/svg\" height=\"24px\" viewBox=\"0 -960 960 960\">\n",
              "    <path d=\"M120-120v-720h720v720H120Zm60-500h600v-160H180v160Zm220 220h160v-160H400v160Zm0 220h160v-160H400v160ZM180-400h160v-160H180v160Zm440 0h160v-160H620v160ZM180-180h160v-160H180v160Zm440 0h160v-160H620v160Z\"/>\n",
              "  </svg>\n",
              "    </button>\n",
              "\n",
              "  <style>\n",
              "    .colab-df-container {\n",
              "      display:flex;\n",
              "      gap: 12px;\n",
              "    }\n",
              "\n",
              "    .colab-df-convert {\n",
              "      background-color: #E8F0FE;\n",
              "      border: none;\n",
              "      border-radius: 50%;\n",
              "      cursor: pointer;\n",
              "      display: none;\n",
              "      fill: #1967D2;\n",
              "      height: 32px;\n",
              "      padding: 0 0 0 0;\n",
              "      width: 32px;\n",
              "    }\n",
              "\n",
              "    .colab-df-convert:hover {\n",
              "      background-color: #E2EBFA;\n",
              "      box-shadow: 0px 1px 2px rgba(60, 64, 67, 0.3), 0px 1px 3px 1px rgba(60, 64, 67, 0.15);\n",
              "      fill: #174EA6;\n",
              "    }\n",
              "\n",
              "    .colab-df-buttons div {\n",
              "      margin-bottom: 4px;\n",
              "    }\n",
              "\n",
              "    [theme=dark] .colab-df-convert {\n",
              "      background-color: #3B4455;\n",
              "      fill: #D2E3FC;\n",
              "    }\n",
              "\n",
              "    [theme=dark] .colab-df-convert:hover {\n",
              "      background-color: #434B5C;\n",
              "      box-shadow: 0px 1px 3px 1px rgba(0, 0, 0, 0.15);\n",
              "      filter: drop-shadow(0px 1px 2px rgba(0, 0, 0, 0.3));\n",
              "      fill: #FFFFFF;\n",
              "    }\n",
              "  </style>\n",
              "\n",
              "    <script>\n",
              "      const buttonEl =\n",
              "        document.querySelector('#df-2a853363-42a2-4cae-9ed9-a3ff33dc4f7d button.colab-df-convert');\n",
              "      buttonEl.style.display =\n",
              "        google.colab.kernel.accessAllowed ? 'block' : 'none';\n",
              "\n",
              "      async function convertToInteractive(key) {\n",
              "        const element = document.querySelector('#df-2a853363-42a2-4cae-9ed9-a3ff33dc4f7d');\n",
              "        const dataTable =\n",
              "          await google.colab.kernel.invokeFunction('convertToInteractive',\n",
              "                                                    [key], {});\n",
              "        if (!dataTable) return;\n",
              "\n",
              "        const docLinkHtml = 'Like what you see? Visit the ' +\n",
              "          '<a target=\"_blank\" href=https://colab.research.google.com/notebooks/data_table.ipynb>data table notebook</a>'\n",
              "          + ' to learn more about interactive tables.';\n",
              "        element.innerHTML = '';\n",
              "        dataTable['output_type'] = 'display_data';\n",
              "        await google.colab.output.renderOutput(dataTable, element);\n",
              "        const docLink = document.createElement('div');\n",
              "        docLink.innerHTML = docLinkHtml;\n",
              "        element.appendChild(docLink);\n",
              "      }\n",
              "    </script>\n",
              "  </div>\n",
              "\n",
              "\n",
              "<div id=\"df-7ed268ad-45a5-4662-a98a-dbd69ac00742\">\n",
              "  <button class=\"colab-df-quickchart\" onclick=\"quickchart('df-7ed268ad-45a5-4662-a98a-dbd69ac00742')\"\n",
              "            title=\"Suggest charts\"\n",
              "            style=\"display:none;\">\n",
              "\n",
              "<svg xmlns=\"http://www.w3.org/2000/svg\" height=\"24px\"viewBox=\"0 0 24 24\"\n",
              "     width=\"24px\">\n",
              "    <g>\n",
              "        <path d=\"M19 3H5c-1.1 0-2 .9-2 2v14c0 1.1.9 2 2 2h14c1.1 0 2-.9 2-2V5c0-1.1-.9-2-2-2zM9 17H7v-7h2v7zm4 0h-2V7h2v10zm4 0h-2v-4h2v4z\"/>\n",
              "    </g>\n",
              "</svg>\n",
              "  </button>\n",
              "\n",
              "<style>\n",
              "  .colab-df-quickchart {\n",
              "      --bg-color: #E8F0FE;\n",
              "      --fill-color: #1967D2;\n",
              "      --hover-bg-color: #E2EBFA;\n",
              "      --hover-fill-color: #174EA6;\n",
              "      --disabled-fill-color: #AAA;\n",
              "      --disabled-bg-color: #DDD;\n",
              "  }\n",
              "\n",
              "  [theme=dark] .colab-df-quickchart {\n",
              "      --bg-color: #3B4455;\n",
              "      --fill-color: #D2E3FC;\n",
              "      --hover-bg-color: #434B5C;\n",
              "      --hover-fill-color: #FFFFFF;\n",
              "      --disabled-bg-color: #3B4455;\n",
              "      --disabled-fill-color: #666;\n",
              "  }\n",
              "\n",
              "  .colab-df-quickchart {\n",
              "    background-color: var(--bg-color);\n",
              "    border: none;\n",
              "    border-radius: 50%;\n",
              "    cursor: pointer;\n",
              "    display: none;\n",
              "    fill: var(--fill-color);\n",
              "    height: 32px;\n",
              "    padding: 0;\n",
              "    width: 32px;\n",
              "  }\n",
              "\n",
              "  .colab-df-quickchart:hover {\n",
              "    background-color: var(--hover-bg-color);\n",
              "    box-shadow: 0 1px 2px rgba(60, 64, 67, 0.3), 0 1px 3px 1px rgba(60, 64, 67, 0.15);\n",
              "    fill: var(--button-hover-fill-color);\n",
              "  }\n",
              "\n",
              "  .colab-df-quickchart-complete:disabled,\n",
              "  .colab-df-quickchart-complete:disabled:hover {\n",
              "    background-color: var(--disabled-bg-color);\n",
              "    fill: var(--disabled-fill-color);\n",
              "    box-shadow: none;\n",
              "  }\n",
              "\n",
              "  .colab-df-spinner {\n",
              "    border: 2px solid var(--fill-color);\n",
              "    border-color: transparent;\n",
              "    border-bottom-color: var(--fill-color);\n",
              "    animation:\n",
              "      spin 1s steps(1) infinite;\n",
              "  }\n",
              "\n",
              "  @keyframes spin {\n",
              "    0% {\n",
              "      border-color: transparent;\n",
              "      border-bottom-color: var(--fill-color);\n",
              "      border-left-color: var(--fill-color);\n",
              "    }\n",
              "    20% {\n",
              "      border-color: transparent;\n",
              "      border-left-color: var(--fill-color);\n",
              "      border-top-color: var(--fill-color);\n",
              "    }\n",
              "    30% {\n",
              "      border-color: transparent;\n",
              "      border-left-color: var(--fill-color);\n",
              "      border-top-color: var(--fill-color);\n",
              "      border-right-color: var(--fill-color);\n",
              "    }\n",
              "    40% {\n",
              "      border-color: transparent;\n",
              "      border-right-color: var(--fill-color);\n",
              "      border-top-color: var(--fill-color);\n",
              "    }\n",
              "    60% {\n",
              "      border-color: transparent;\n",
              "      border-right-color: var(--fill-color);\n",
              "    }\n",
              "    80% {\n",
              "      border-color: transparent;\n",
              "      border-right-color: var(--fill-color);\n",
              "      border-bottom-color: var(--fill-color);\n",
              "    }\n",
              "    90% {\n",
              "      border-color: transparent;\n",
              "      border-bottom-color: var(--fill-color);\n",
              "    }\n",
              "  }\n",
              "</style>\n",
              "\n",
              "  <script>\n",
              "    async function quickchart(key) {\n",
              "      const quickchartButtonEl =\n",
              "        document.querySelector('#' + key + ' button');\n",
              "      quickchartButtonEl.disabled = true;  // To prevent multiple clicks.\n",
              "      quickchartButtonEl.classList.add('colab-df-spinner');\n",
              "      try {\n",
              "        const charts = await google.colab.kernel.invokeFunction(\n",
              "            'suggestCharts', [key], {});\n",
              "      } catch (error) {\n",
              "        console.error('Error during call to suggestCharts:', error);\n",
              "      }\n",
              "      quickchartButtonEl.classList.remove('colab-df-spinner');\n",
              "      quickchartButtonEl.classList.add('colab-df-quickchart-complete');\n",
              "    }\n",
              "    (() => {\n",
              "      let quickchartButtonEl =\n",
              "        document.querySelector('#df-7ed268ad-45a5-4662-a98a-dbd69ac00742 button');\n",
              "      quickchartButtonEl.style.display =\n",
              "        google.colab.kernel.accessAllowed ? 'block' : 'none';\n",
              "    })();\n",
              "  </script>\n",
              "</div>\n",
              "\n",
              "    </div>\n",
              "  </div>\n"
            ],
            "application/vnd.google.colaboratory.intrinsic+json": {
              "type": "dataframe",
              "summary": "{\n  \"name\": \"salary_data\",\n  \"rows\": 5,\n  \"fields\": [\n    {\n      \"column\": \"YearsExperience\",\n      \"properties\": {\n        \"dtype\": \"number\",\n        \"std\": 0.6140032573203502,\n        \"min\": 9.0,\n        \"max\": 10.5,\n        \"num_unique_values\": 5,\n        \"samples\": [\n          9.5,\n          10.5,\n          9.6\n        ],\n        \"semantic_type\": \"\",\n        \"description\": \"\"\n      }\n    },\n    {\n      \"column\": \"Salary\",\n      \"properties\": {\n        \"dtype\": \"number\",\n        \"std\": 7001,\n        \"min\": 105582,\n        \"max\": 122391,\n        \"num_unique_values\": 5,\n        \"samples\": [\n          116969,\n          121872,\n          112635\n        ],\n        \"semantic_type\": \"\",\n        \"description\": \"\"\n      }\n    }\n  ]\n}"
            }
          },
          "metadata": {},
          "execution_count": 7
        }
      ]
    },
    {
      "cell_type": "code",
      "source": [
        "salary_data.shape"
      ],
      "metadata": {
        "colab": {
          "base_uri": "https://localhost:8080/"
        },
        "id": "SP66FsXEl5GP",
        "outputId": "3c3c53ca-c15f-434a-90ad-70d3822d61b7"
      },
      "execution_count": null,
      "outputs": [
        {
          "output_type": "execute_result",
          "data": {
            "text/plain": [
              "(30, 2)"
            ]
          },
          "metadata": {},
          "execution_count": 9
        }
      ]
    },
    {
      "cell_type": "code",
      "source": [
        "#checking for missing values\n",
        "salary_data.isnull().sum()"
      ],
      "metadata": {
        "colab": {
          "base_uri": "https://localhost:8080/",
          "height": 147
        },
        "id": "Qg7_YC5kl6bc",
        "outputId": "61fcaf75-82d3-4533-ee31-8e9e021c3ec3"
      },
      "execution_count": null,
      "outputs": [
        {
          "output_type": "execute_result",
          "data": {
            "text/plain": [
              "YearsExperience    0\n",
              "Salary             0\n",
              "dtype: int64"
            ],
            "text/html": [
              "<div>\n",
              "<style scoped>\n",
              "    .dataframe tbody tr th:only-of-type {\n",
              "        vertical-align: middle;\n",
              "    }\n",
              "\n",
              "    .dataframe tbody tr th {\n",
              "        vertical-align: top;\n",
              "    }\n",
              "\n",
              "    .dataframe thead th {\n",
              "        text-align: right;\n",
              "    }\n",
              "</style>\n",
              "<table border=\"1\" class=\"dataframe\">\n",
              "  <thead>\n",
              "    <tr style=\"text-align: right;\">\n",
              "      <th></th>\n",
              "      <th>0</th>\n",
              "    </tr>\n",
              "  </thead>\n",
              "  <tbody>\n",
              "    <tr>\n",
              "      <th>YearsExperience</th>\n",
              "      <td>0</td>\n",
              "    </tr>\n",
              "    <tr>\n",
              "      <th>Salary</th>\n",
              "      <td>0</td>\n",
              "    </tr>\n",
              "  </tbody>\n",
              "</table>\n",
              "</div><br><label><b>dtype:</b> int64</label>"
            ]
          },
          "metadata": {},
          "execution_count": 10
        }
      ]
    },
    {
      "cell_type": "markdown",
      "source": [
        "Splitting the feature and target"
      ],
      "metadata": {
        "id": "20Xc9rRDmSCx"
      }
    },
    {
      "cell_type": "code",
      "source": [
        "X = salary_data.iloc[:,:-1].values\n",
        "Y = salary_data.iloc[:,1].values"
      ],
      "metadata": {
        "id": "S57g98PjmGaP"
      },
      "execution_count": null,
      "outputs": []
    },
    {
      "cell_type": "code",
      "source": [
        "print(X)"
      ],
      "metadata": {
        "colab": {
          "base_uri": "https://localhost:8080/"
        },
        "id": "Gna_363LmvDz",
        "outputId": "8091b3df-c36d-4f08-b4f7-4cb9232bb62d"
      },
      "execution_count": null,
      "outputs": [
        {
          "output_type": "stream",
          "name": "stdout",
          "text": [
            "[[ 1.1]\n",
            " [ 1.3]\n",
            " [ 1.5]\n",
            " [ 2. ]\n",
            " [ 2.2]\n",
            " [ 2.9]\n",
            " [ 3. ]\n",
            " [ 3.2]\n",
            " [ 3.2]\n",
            " [ 3.7]\n",
            " [ 3.9]\n",
            " [ 4. ]\n",
            " [ 4. ]\n",
            " [ 4.1]\n",
            " [ 4.5]\n",
            " [ 4.9]\n",
            " [ 5.1]\n",
            " [ 5.3]\n",
            " [ 5.9]\n",
            " [ 6. ]\n",
            " [ 6.8]\n",
            " [ 7.1]\n",
            " [ 7.9]\n",
            " [ 8.2]\n",
            " [ 8.7]\n",
            " [ 9. ]\n",
            " [ 9.5]\n",
            " [ 9.6]\n",
            " [10.3]\n",
            " [10.5]]\n"
          ]
        }
      ]
    },
    {
      "cell_type": "code",
      "source": [
        "print(Y)"
      ],
      "metadata": {
        "colab": {
          "base_uri": "https://localhost:8080/"
        },
        "id": "sF5JArJ9mxcA",
        "outputId": "78f40541-bc73-41c8-d290-df8b043daadd"
      },
      "execution_count": null,
      "outputs": [
        {
          "output_type": "stream",
          "name": "stdout",
          "text": [
            "[ 39343  46205  37731  43525  39891  56642  60150  54445  64445  57189\n",
            "  63218  55794  56957  57081  61111  67938  66029  83088  81363  93940\n",
            "  91738  98273 101302 113812 109431 105582 116969 112635 122391 121872]\n"
          ]
        }
      ]
    },
    {
      "cell_type": "markdown",
      "source": [
        "Splitting data into training and testing data"
      ],
      "metadata": {
        "id": "PQF1tskwm2PZ"
      }
    },
    {
      "cell_type": "code",
      "source": [
        "X_train ,  X_test ,Y_train, Y_test = train_test_split(X,Y,test_size=0.2,random_state=2)"
      ],
      "metadata": {
        "id": "mloFB4TomyoA"
      },
      "execution_count": null,
      "outputs": []
    },
    {
      "cell_type": "markdown",
      "source": [
        "Training model"
      ],
      "metadata": {
        "id": "E0SyXTronW8w"
      }
    },
    {
      "cell_type": "code",
      "source": [
        "model = Linear_Regression(learning_rate=0.02,no_of_iterations=100)"
      ],
      "metadata": {
        "id": "nSoMSN-JnR4H"
      },
      "execution_count": null,
      "outputs": []
    },
    {
      "cell_type": "code",
      "source": [
        "model.fit(X_train,Y_train)"
      ],
      "metadata": {
        "id": "1eEYAksbHMNK"
      },
      "execution_count": null,
      "outputs": []
    },
    {
      "cell_type": "code",
      "source": [
        "#printing parameters values\n",
        "print('weight = ',model.w[0])\n",
        "print('bias =',model.b)"
      ],
      "metadata": {
        "colab": {
          "base_uri": "https://localhost:8080/"
        },
        "id": "uAaFnD31HuTe",
        "outputId": "57316de8-4878-4d7e-cd15-1fd28991389f"
      },
      "execution_count": null,
      "outputs": [
        {
          "output_type": "stream",
          "name": "stdout",
          "text": [
            "weight =  11041.835600652004\n",
            "bias = 14058.339560230688\n"
          ]
        }
      ]
    },
    {
      "cell_type": "markdown",
      "source": [
        " y = 9570.888860991548*x + 24384.029598697263\n",
        "\n",
        "  salary = 9570.888860991548(experience) + 24384.029598697263"
      ],
      "metadata": {
        "id": "fJmUIxjBITVY"
      }
    },
    {
      "cell_type": "markdown",
      "source": [
        "Predict the salary value for test data"
      ],
      "metadata": {
        "id": "pRO5yNo9JCyE"
      }
    },
    {
      "cell_type": "code",
      "source": [
        "test_data_prediction = model.predict(X_test)"
      ],
      "metadata": {
        "id": "yjzXjeIMIK7l"
      },
      "execution_count": null,
      "outputs": []
    },
    {
      "cell_type": "code",
      "source": [
        "print(test_data_prediction)"
      ],
      "metadata": {
        "colab": {
          "base_uri": "https://localhost:8080/"
        },
        "id": "R8PJr1f5JShe",
        "outputId": "89180829-3da2-4241-fbd6-60a966ef4c91"
      },
      "execution_count": null,
      "outputs": [
        {
          "output_type": "stream",
          "name": "stdout",
          "text": [
            "[28412.72584108 26204.35872095 63746.59976316 54913.13128264\n",
            " 92455.37232486 80309.35316414]\n"
          ]
        }
      ]
    },
    {
      "cell_type": "markdown",
      "source": [
        "Visualising predicted and actual values"
      ],
      "metadata": {
        "id": "MHL5oEcqJWTV"
      }
    },
    {
      "cell_type": "code",
      "source": [
        "plt.scatter(X_test,Y_test,color='red')\n",
        "plt.plot(X_test,test_data_prediction,color='blue')\n",
        "plt.xlabel('Experience')\n",
        "plt.ylabel('Salary')\n",
        "plt.plot(X_test,test_data_prediction)"
      ],
      "metadata": {
        "colab": {
          "base_uri": "https://localhost:8080/",
          "height": 467
        },
        "id": "CEkRRyveJU97",
        "outputId": "10bc94af-01e3-4970-ce68-70720673e3dd"
      },
      "execution_count": null,
      "outputs": [
        {
          "output_type": "execute_result",
          "data": {
            "text/plain": [
              "[<matplotlib.lines.Line2D at 0x7d77d0a59090>]"
            ]
          },
          "metadata": {},
          "execution_count": 28
        },
        {
          "output_type": "display_data",
          "data": {
            "text/plain": [
              "<Figure size 640x480 with 1 Axes>"
            ],
            "image/png": "[encoded data removed]"
          },
          "metadata": {}
        }
      ]
    }
  ]
}
