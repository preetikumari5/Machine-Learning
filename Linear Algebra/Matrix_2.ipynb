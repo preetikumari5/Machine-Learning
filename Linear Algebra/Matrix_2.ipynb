{
  "nbformat": 4,
  "nbformat_minor": 0,
  "metadata": {
    "colab": {
      "provenance": [],
      "authorship_tag": "ABX9TyMzmxc8eGXNbiKHr/dAcPeW",
      "include_colab_link": true
    },
    "kernelspec": {
      "name": "python3",
      "display_name": "Python 3"
    },
    "language_info": {
      "name": "python"
    }
  },
  "cells": [
    {
      "cell_type": "markdown",
      "metadata": {
        "id": "view-in-github",
        "colab_type": "text"
      },
      "source": [
        "<a href=\"https://colab.research.google.com/github/preetikumari5/Machine-Learning/blob/main/Matrix_2.ipynb\" target=\"_parent\"><img src=\"https://colab.research.google.com/assets/colab-badge.svg\" alt=\"Open In Colab\"/></a>"
      ]
    },
    {
      "cell_type": "code",
      "execution_count": 1,
      "metadata": {
        "id": "ocdqMCmci6fd"
      },
      "outputs": [],
      "source": [
        "import numpy as np"
      ]
    },
    {
      "cell_type": "markdown",
      "source": [
        "ADDITION"
      ],
      "metadata": {
        "id": "FppO5pKwjgFi"
      }
    },
    {
      "cell_type": "code",
      "source": [
        "a = np.random.randint(10,size=(2,2))\n",
        "b = np.random.randint(11,20,size=(2,2))\n",
        "print('A: ',a)\n",
        "print('B: ',b)"
      ],
      "metadata": {
        "colab": {
          "base_uri": "https://localhost:8080/"
        },
        "id": "soz9HBq4jT0Z",
        "outputId": "be6e36c6-90b8-4de8-ad7f-1ee9da0167bd"
      },
      "execution_count": 2,
      "outputs": [
        {
          "output_type": "stream",
          "name": "stdout",
          "text": [
            "A:  [[5 8]\n",
            " [4 2]]\n",
            "B:  [[15 11]\n",
            " [14 16]]\n"
          ]
        }
      ]
    },
    {
      "cell_type": "code",
      "source": [
        "sum = a+b\n",
        "print(sum)"
      ],
      "metadata": {
        "colab": {
          "base_uri": "https://localhost:8080/"
        },
        "id": "YKTDNc5dlwZ-",
        "outputId": "8b68703a-61d5-4f9d-96a2-882d9c10aca9"
      },
      "execution_count": 3,
      "outputs": [
        {
          "output_type": "stream",
          "name": "stdout",
          "text": [
            "[[20 19]\n",
            " [18 18]]\n"
          ]
        }
      ]
    },
    {
      "cell_type": "code",
      "source": [
        "c = np.add(a,b)\n",
        "print(c)"
      ],
      "metadata": {
        "colab": {
          "base_uri": "https://localhost:8080/"
        },
        "id": "sS4W4GqBjt2C",
        "outputId": "2ba2e98a-19ab-423a-a633-721f2fae0ef0"
      },
      "execution_count": 4,
      "outputs": [
        {
          "output_type": "stream",
          "name": "stdout",
          "text": [
            "[[20 19]\n",
            " [18 18]]\n"
          ]
        }
      ]
    },
    {
      "cell_type": "code",
      "source": [
        "print(a.shape)\n",
        "print(b.shape)\n",
        "print(c.shape)"
      ],
      "metadata": {
        "colab": {
          "base_uri": "https://localhost:8080/"
        },
        "id": "8JUuG7rmj5CX",
        "outputId": "8a486fe4-6515-4761-f4b1-bce047de9aa6"
      },
      "execution_count": 5,
      "outputs": [
        {
          "output_type": "stream",
          "name": "stdout",
          "text": [
            "(2, 2)\n",
            "(2, 2)\n",
            "(2, 2)\n"
          ]
        }
      ]
    },
    {
      "cell_type": "markdown",
      "source": [
        "SUBTRACTION"
      ],
      "metadata": {
        "id": "gNX8jRVIkYF3"
      }
    },
    {
      "cell_type": "code",
      "source": [
        "c = np.random.randint(10,size=(4,5))\n",
        "d= np.random.randint(-10,10,size=(4,5))\n",
        "print(c)\n",
        "print(d)"
      ],
      "metadata": {
        "colab": {
          "base_uri": "https://localhost:8080/"
        },
        "id": "adJLnUPnkMBT",
        "outputId": "6709bbf0-fdca-4bc4-dddc-ac90cfd780ac"
      },
      "execution_count": 6,
      "outputs": [
        {
          "output_type": "stream",
          "name": "stdout",
          "text": [
            "[[3 2 7 0 7]\n",
            " [1 8 2 3 2]\n",
            " [6 9 8 6 9]\n",
            " [6 7 1 7 0]]\n",
            "[[-1 -4  4 -8  0]\n",
            " [ 6  4  9  9  1]\n",
            " [ 9  0  6 -6  9]\n",
            " [ 5  9  5 -1 -5]]\n"
          ]
        }
      ]
    },
    {
      "cell_type": "code",
      "source": [
        "e = c-d\n",
        "print(e)"
      ],
      "metadata": {
        "colab": {
          "base_uri": "https://localhost:8080/"
        },
        "id": "G-jgtxJ_kk6w",
        "outputId": "72e8cc50-d197-437c-8d18-bac7596f7418"
      },
      "execution_count": 7,
      "outputs": [
        {
          "output_type": "stream",
          "name": "stdout",
          "text": [
            "[[ 4  6  3  8  7]\n",
            " [-5  4 -7 -6  1]\n",
            " [-3  9  2 12  0]\n",
            " [ 1 -2 -4  8  5]]\n"
          ]
        }
      ]
    },
    {
      "cell_type": "code",
      "source": [
        "e.shape"
      ],
      "metadata": {
        "colab": {
          "base_uri": "https://localhost:8080/"
        },
        "id": "srA_IbTakrya",
        "outputId": "4809ead7-07c8-46d9-c531-4188be7ddcc5"
      },
      "execution_count": 8,
      "outputs": [
        {
          "output_type": "execute_result",
          "data": {
            "text/plain": [
              "(4, 5)"
            ]
          },
          "metadata": {},
          "execution_count": 8
        }
      ]
    },
    {
      "cell_type": "code",
      "source": [
        "diff = np.subtract(c,d)\n",
        "print(diff)"
      ],
      "metadata": {
        "colab": {
          "base_uri": "https://localhost:8080/"
        },
        "id": "z_dXFAmcl2p2",
        "outputId": "474ecda9-5e9a-483e-a961-268ea9556fe9"
      },
      "execution_count": 9,
      "outputs": [
        {
          "output_type": "stream",
          "name": "stdout",
          "text": [
            "[[ 4  6  3  8  7]\n",
            " [-5  4 -7 -6  1]\n",
            " [-3  9  2 12  0]\n",
            " [ 1 -2 -4  8  5]]\n"
          ]
        }
      ]
    },
    {
      "cell_type": "markdown",
      "source": [
        "MULTIPLICATION"
      ],
      "metadata": {
        "id": "wyXBRr-BkvCg"
      }
    },
    {
      "cell_type": "code",
      "source": [
        "f = np.random.randint(10,size=(4,4))\n",
        "g = np.random.randint(10,size=(4,4))\n",
        "print(f)\n",
        "print(g)"
      ],
      "metadata": {
        "colab": {
          "base_uri": "https://localhost:8080/"
        },
        "id": "KG5miK-Tks4F",
        "outputId": "6d3680a4-498c-4dfc-be5c-146f91f49912"
      },
      "execution_count": 10,
      "outputs": [
        {
          "output_type": "stream",
          "name": "stdout",
          "text": [
            "[[1 9 4 1]\n",
            " [5 6 1 4]\n",
            " [7 5 9 8]\n",
            " [2 9 1 1]]\n",
            "[[9 5 1 7]\n",
            " [0 4 6 4]\n",
            " [9 2 0 9]\n",
            " [6 1 8 4]]\n"
          ]
        }
      ]
    },
    {
      "cell_type": "code",
      "source": [
        "h = f*g\n",
        "z = np.multiply(f,g)\n",
        "print(h)\n",
        "print(z)"
      ],
      "metadata": {
        "colab": {
          "base_uri": "https://localhost:8080/"
        },
        "id": "_Q5Swrbgk9KV",
        "outputId": "acbf195a-e092-4acb-8802-485266b239e3"
      },
      "execution_count": 16,
      "outputs": [
        {
          "output_type": "stream",
          "name": "stdout",
          "text": [
            "[[ 9 45  4  7]\n",
            " [ 0 24  6 16]\n",
            " [63 10  0 72]\n",
            " [12  9  8  4]]\n",
            "[[ 9 45  4  7]\n",
            " [ 0 24  6 16]\n",
            " [63 10  0 72]\n",
            " [12  9  8  4]]\n"
          ]
        }
      ]
    },
    {
      "cell_type": "code",
      "source": [
        "h.shape"
      ],
      "metadata": {
        "colab": {
          "base_uri": "https://localhost:8080/"
        },
        "id": "x9P4--l0lAB8",
        "outputId": "7c69b69c-a25e-4112-8feb-a51cc5be8de0"
      },
      "execution_count": 12,
      "outputs": [
        {
          "output_type": "execute_result",
          "data": {
            "text/plain": [
              "(4, 4)"
            ]
          },
          "metadata": {},
          "execution_count": 12
        }
      ]
    },
    {
      "cell_type": "code",
      "source": [
        "i = np.dot(f,g)\n",
        "print(i)"
      ],
      "metadata": {
        "colab": {
          "base_uri": "https://localhost:8080/"
        },
        "id": "Wi7qOlW0mI_c",
        "outputId": "127375c1-4afe-458d-8507-2b20f1115d89"
      },
      "execution_count": 13,
      "outputs": [
        {
          "output_type": "stream",
          "name": "stdout",
          "text": [
            "[[ 51  50  63  83]\n",
            " [ 78  55  73  84]\n",
            " [192  81 101 182]\n",
            " [ 33  49  64  63]]\n"
          ]
        }
      ]
    }
  ]
}
